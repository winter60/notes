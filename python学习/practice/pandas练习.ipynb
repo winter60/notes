{
 "cells": [
  {
   "cell_type": "code",
   "execution_count": 10,
   "metadata": {},
   "outputs": [
    {
     "name": "stdout",
     "output_type": "stream",
     "text": [
      "<bound method Series.iteritems of a    1\n",
      "b    2\n",
      "c    3\n",
      "d    4\n",
      "dtype: int64>\n"
     ]
    }
   ],
   "source": [
    "import pandas as pd\n",
    "from pandas import Series,DataFrame\n",
    "import numpy as np\n",
    "\n",
    "# sel = Series([1,2,3,4])\n",
    "# print(type(sel))\n",
    "# print(sel)\n",
    "\n",
    "sel = Series(data = [1,2,3,4], index = list('abcd'))\n",
    "# print(sel)\n",
    "# print(sel.values)\n",
    "# print(sel.index)\n",
    "# print(sel.iteritems)"
   ]
  },
  {
   "cell_type": "code",
   "execution_count": 11,
   "metadata": {},
   "outputs": [
    {
     "name": "stdout",
     "output_type": "stream",
     "text": [
      "red      100\n",
      "black    400\n",
      "green    300\n",
      "pink     900\n",
      "dtype: int64\n"
     ]
    }
   ],
   "source": [
    "# 将字典转换为Series\n",
    "dict={\"red\":100,\"black\":400,\"green\":300,\"pink\":900}\n",
    "se3=Series(dict)\n",
    "print(se3)\n"
   ]
  },
  {
   "cell_type": "code",
   "execution_count": 23,
   "metadata": {},
   "outputs": [
    {
     "name": "stdout",
     "output_type": "stream",
     "text": [
      "a    1\n",
      "b    2\n",
      "c    3\n",
      "d    s\n",
      "dtype: object\n",
      "d    1\n",
      "c    2\n",
      "b    3\n",
      "a    s\n",
      "dtype: object\n",
      "b      3\n",
      "a      s\n",
      "c      2\n",
      "d      1\n",
      "e    NaN\n",
      "dtype: object\n"
     ]
    }
   ],
   "source": [
    "# Series数据获取\n",
    "sel =  Series(data = [1,2,3,'s'], index = list('abcd'))\n",
    "print(sel)\n",
    "\n",
    "# print('索引下标',sel['c'])\n",
    "# print('位置下标',sel[2])\n",
    "\n",
    "# 获取不连续的数据\n",
    "# print('索引下标',sel[['a','c']])\n",
    "# print('位置下标',sel[[1,3]])\n",
    "\n",
    "\n",
    "# print('位置切片',sel[1:3])# 左包含右不包含\n",
    "# print('索引切片',sel['b':'d'])# 左右都包含\n",
    "\n",
    "sel.index = list('dcba')\n",
    "print(sel)\n",
    "\n",
    "\n",
    "print(sel.reindex(['b','a','c','d','e']))\n"
   ]
  },
  {
   "cell_type": "code",
   "execution_count": 24,
   "metadata": {},
   "outputs": [
    {
     "name": "stdout",
     "output_type": "stream",
     "text": [
      "0    10\n",
      "1    11\n",
      "2    12\n",
      "3    13\n",
      "4    14\n",
      "dtype: int64\n",
      "0    10\n",
      "1    11\n",
      "4    14\n",
      "dtype: int64\n"
     ]
    }
   ],
   "source": [
    "se1=pd.Series(range(10,15))\n",
    "print(se1)\n",
    "print(se1.drop([2,3]))\n"
   ]
  },
  {
   "cell_type": "code",
   "execution_count": 29,
   "metadata": {},
   "outputs": [
    {
     "name": "stdout",
     "output_type": "stream",
     "text": [
      "Accra        NaN\n",
      "Delhi        NaN\n",
      "HongKong     NaN\n",
      "Humbai       NaN\n",
      "London       1.0\n",
      "lagos       24.0\n",
      "dtype: float64\n"
     ]
    }
   ],
   "source": [
    "series1 = pd.Series([1,2,3,4],['London','HongKong','Humbai','lagos'])\n",
    "series2 = pd.Series([1,3,6,4],['London','Accra','lagos','Delhi'])\n",
    "# series1 = pd.Series([1,2,3,4])\n",
    "# series2 = pd.Series([1,3,6,4])\n",
    "\n",
    "# print(series1-series2)\n",
    "# print(series1+series2)\n",
    "# print(series1*series2)\n"
   ]
  },
  {
   "cell_type": "code",
   "execution_count": 38,
   "metadata": {},
   "outputs": [
    {
     "name": "stdout",
     "output_type": "stream",
     "text": [
      "a     1\n",
      "b    36\n",
      "c     9\n",
      "d    25\n",
      "dtype: int64\n"
     ]
    }
   ],
   "source": [
    "sel =  Series(data = [1,6,3,5], index = list('abcd'))\n",
    "# print(sel[sel>3]) # 布尔数组过滤\n",
    "\n",
    "# print(sel*2) # 标量乘法\n",
    "print(np.square(sel)) # 可以直接加入到numpy的数学函数"
   ]
  },
  {
   "cell_type": "code",
   "execution_count": 47,
   "metadata": {},
   "outputs": [
    {
     "name": "stdout",
     "output_type": "stream",
     "text": [
      "   a  d\n",
      "1  3  4\n",
      "4  8  9\n"
     ]
    }
   ],
   "source": [
    "# 使用二维数组\n",
    "# df1 = DataFrame(np.random.randint(0,10,(4,4)),index=[1,2,3,4],columns=['a','b','c','d'])\n",
    "df1 = DataFrame([[3,4],[8,9]],index=[1,4],columns=['a','d'])\n",
    "\n",
    "print(df1)\n"
   ]
  },
  {
   "cell_type": "code",
   "execution_count": 48,
   "metadata": {},
   "outputs": [
    {
     "name": "stdout",
     "output_type": "stream",
     "text": [
      "    Province  pop  year\n",
      "1  Guangdong  1.3  2018\n",
      "2    Beijing  2.5  2018\n",
      "3    Qinghai  1.1  2018\n",
      "4     Fujian  0.7  2018\n"
     ]
    }
   ],
   "source": [
    "dict={\n",
    "    'Province': ['Guangdong', 'Beijing', 'Qinghai', 'Fujian'],\n",
    "    'pop': [1.3, 2.5, 1.1, 0.7],\n",
    "    'year': [2018, 2018, 2018, 2018]}\n",
    "df2=pd.DataFrame(dict,index=[1,2,3,4])\n",
    "print(df2)\n"
   ]
  },
  {
   "cell_type": "code",
   "execution_count": 54,
   "metadata": {},
   "outputs": [
    {
     "name": "stdout",
     "output_type": "stream",
     "text": [
      "   a  b\n",
      "0  1  4\n",
      "1  2  5\n",
      "2  3  6\n"
     ]
    }
   ],
   "source": [
    "# 使用from_dict\n",
    "dict2={\"a\":[1,2,3],\"b\":[4,5,6]}\n",
    "df6=pd.DataFrame.from_dict(dict2)\n",
    "print(df6)\n"
   ]
  },
  {
   "cell_type": "code",
   "execution_count": 57,
   "metadata": {},
   "outputs": [
    {
     "name": "stdout",
     "output_type": "stream",
     "text": [
      "  Name Age country\n",
      "a   zs  10      中国\n",
      "b   ls  20      韩国\n",
      "c   we  30      日本\n",
      "d  NaN  40     NaN\n",
      "{'Name': {'a': 'zs', 'b': 'ls', 'c': 'we', 'd': nan}, 'Age': {'a': '10', 'b': '20', 'c': '30', 'd': '40'}, 'country': {'a': '中国', 'b': '韩国', 'c': '日本', 'd': nan}}\n"
     ]
    }
   ],
   "source": [
    "#索引相同的情况下，相同索引的值会相对应，缺少的值会添加NaN\n",
    "data = {\n",
    "    'Name':pd.Series(['zs','ls','we'],index=['a','b','c']),\n",
    "    'Age':pd.Series(['10','20','30','40'],index=['a','b','c','d']),\n",
    "    'country':pd.Series(['中国','日本','韩国'],index=['a','c','b'])\n",
    "}\n",
    "\n",
    "df = pd.DataFrame(data)\n",
    "print(df)\n",
    "print(df.to_dict())\n",
    "\n"
   ]
  },
  {
   "cell_type": "code",
   "execution_count": 51,
   "metadata": {},
   "outputs": [
    {
     "data": {
      "text/plain": [
       "a    zs\n",
       "b    ls\n",
       "c    we\n",
       "dtype: object"
      ]
     },
     "execution_count": 51,
     "metadata": {},
     "output_type": "execute_result"
    }
   ],
   "source": [
    "# pd.Series(['zs','ls','we'],index=['a','b','c'])"
   ]
  },
  {
   "cell_type": "code",
   "execution_count": 107,
   "metadata": {},
   "outputs": [
    {
     "name": "stdout",
     "output_type": "stream",
     "text": [
      "       name age national\n",
      "0     James  18       us\n",
      "1     Curry  20    China\n",
      "2  Iversion  19       us\n",
      "********************\n",
      "       name age national\n",
      "1     Curry  20    China\n",
      "2  Iversion  19       us\n",
      "0     James  18       us\n"
     ]
    }
   ],
   "source": [
    "import pandas as pd\n",
    "from pandas import Series,DataFrame\n",
    "import numpy as np\n",
    "\n",
    "# dataframe常用属性\n",
    "df_dict = {\n",
    "\t'name':['James','Curry','Iversion'],\n",
    "\t'age':['18','20','19'],\n",
    "\t'national':['us','China','us']\n",
    "}\n",
    "df = pd.DataFrame(data=df_dict,index=['0','1','2'])\n",
    "print(df)\n",
    "\n",
    "# 获取行数和列数\n",
    "# print(df.shape)\n",
    "\n",
    "# # # 获取行索引\n",
    "# print(df.index.tolist())\n",
    "# print(df.index)\n",
    "\n",
    "# # # 获取列索引\n",
    "# print(df.columns)\n",
    "# print(df.columns.tolist())\n",
    "\n",
    "# # 获取数据的类型\n",
    "# print(df.dtypes)\n",
    "\n",
    "# # 获取数据的维度\n",
    "# print(df.ndim)\n",
    "\n",
    "# # values属性也会以二维ndarray的形式返回DataFrame的数据\n",
    "# print(df.values)\n",
    "\n",
    "# # 展示df的概览\n",
    "# print(df.info())\n",
    "\n",
    "# # 显示头几行,默认显示5行\n",
    "# print(df.head(2))\n",
    "\n",
    "# # 显示后几行\n",
    "# print(df.tail(1))\n",
    "\n",
    "\n",
    "print('*'*20)\n",
    "# 获取DataFrame的列\n",
    "# print(df['name'])\n",
    "# print(df['age'])\n",
    "#因为我们只获取一列，所以返回的就是一个 Series\n",
    "# print(type(df['name']))\n",
    "\n",
    "# # 如果获取多个列，那返回的就是一个 DataFrame 类型：\n",
    "# print(df[['name','age']])\n",
    "# print(type(df[['name','age']]))\n",
    "\n",
    "# # 获取一行\n",
    "# print(df[0:1])\n",
    "\n",
    "# # 去多行\n",
    "# print(df[1:2])\n",
    "\n",
    "# # 取多行里面的某一列（不能进行多行多列的选择）\n",
    "# print(df[1:3][['name','age']])\n",
    "# # 注意： df[]只能进行行选择，或列选择，不能同时多行多列选择。\n",
    "\n",
    "# '''\n",
    "# df.loc 通过标签索引行数据\n",
    "# df.iloc 通过位置获取行数据\n",
    "# '''\n",
    "# # 获取某一行某一列的数据\n",
    "# print(df.loc)x\n",
    "# print(df.loc['0','name'])\n",
    "\n",
    "# 一行所有列\n",
    "# print(df.loc['0',:])\n",
    "\n",
    "# # 某一行多列的数据\n",
    "# print(df.loc['0',['name','age']])\n",
    "# print(type(df.loc['0',['name','age']]))\n",
    "\n",
    "# # 选择间隔的多行多列\n",
    "# print(df.loc[['0','2'],['name','national']])\n",
    "# print(type(df.loc[['0','2'],['name','national']]))\n",
    "# # 选择连续的多行和间隔的多列\n",
    "# print(df.loc['0':'2',['name','national']])\n",
    "\n",
    "# # 取一行\n",
    "# print(df.iloc[1])\n",
    "\n",
    "# # 取连续多行\n",
    "# print(df.iloc[0:2])\n",
    "\n",
    "# # 取间断的多行\n",
    "# print(df.iloc[[0,2],:])\n",
    "\n",
    "# # 取某一列\n",
    "# print(df.iloc[:,1])\n",
    "\n",
    "# # 某一个值\n",
    "# print(df.iloc[1,0])\n",
    "\n",
    "# 修改值\n",
    "# df.iloc[0,0]='panda'\n",
    "# print(df)\n",
    "# dataframe中的排序方法\n",
    "df = df.sort_values(by='age',ascending=False)\n",
    "# ascending=False  ： 降序排列，默认是升序\n",
    "print(df)\n",
    "\n",
    "\n"
   ]
  },
  {
   "cell_type": "code",
   "execution_count": 114,
   "metadata": {},
   "outputs": [
    {
     "name": "stdout",
     "output_type": "stream",
     "text": [
      "    a  b  c\n",
      "bj  0  1  2\n",
      "sh  3  4  5\n",
      "gz  6  7  8\n",
      "Index(['bj', 'sh', 'gz'], dtype='object')\n",
      "           a  b  c\n",
      "beijing    0  1  2\n",
      "shanghai   3  4  5\n",
      "guangzhou  6  7  8\n",
      "           aa  b  c\n",
      "beijing     0  1  2\n",
      "shanghai    3  4  5\n",
      "guangzhou   6  7  8\n"
     ]
    }
   ],
   "source": [
    "### 3.3 dataframe修改index、columns\n",
    "\n",
    "df1 = pd.DataFrame(np.arange(9).reshape(3, 3), index = ['bj', 'sh', 'gz'], columns=['a', 'b', 'c'])\n",
    "print(df1)\n",
    "# 修改 df1 的 index\n",
    "print(df1.index) # 可以打印出print的值，同时也可以为其赋值\n",
    "df1.index = ['beijing', 'shanghai', 'guangzhou']\n",
    "print(df1)\n",
    "\n",
    "# # 自定义map函数（x是原有的行列值）\n",
    "# def test_map(x):    \n",
    "#     return x+'_ABC'\n",
    "# # inplace：布尔值，默认为False。指定是否返回新的DataFrame。如果为True，则在原df上修改，返回值为None。\n",
    "# print(df1.rename(index=test_map, columns=test_map, inplace=False))\n",
    "\n",
    "# 同时，rename 还可以传入字典，为某个 index 单独修改名称\n",
    "# df3 = df1.rename(index={'bj':'beijing'}, columns = {'a':'aa'}) \n",
    "# print(df3)\n"
   ]
  },
  {
   "cell_type": "code",
   "execution_count": 137,
   "metadata": {},
   "outputs": [
    {
     "name": "stdout",
     "output_type": "stream",
     "text": [
      "   X  Y  S  Z\n",
      "0  0  0  a  1\n",
      "1  1  1  b  1\n",
      "2  2  2  c  2\n",
      "3  3  3  d  2\n",
      "4  4  4  e  2\n",
      "Index(['a', 'b', 'c', 'd', 'e'], dtype='object', name='S')\n",
      "   X  Y  S  Z\n",
      "a  0  0  a  1\n",
      "b  1  1  b  1\n",
      "c  2  2  c  2\n",
      "d  3  3  d  2\n",
      "e  4  4  e  2\n"
     ]
    }
   ],
   "source": [
    "\n",
    "# # 列转化为索引\n",
    "df1=pd.DataFrame({'X':range(5),'Y':range(5),'S':list(\"abcde\"),'Z':[1,1,2,2,2]})\n",
    "print(df1)\n",
    "# # 指定一列为索引 (drop=False 指定同时保留作为索引的列)\n",
    "result = df1.set_index('S',drop=False)\n",
    "# result = df1.set_index('S',drop=True)\n",
    "print(result.index)\n",
    "result.index.name=None\n",
    "print(result)\n"
   ]
  },
  {
   "cell_type": "code",
   "execution_count": 139,
   "metadata": {},
   "outputs": [
    {
     "name": "stdout",
     "output_type": "stream",
     "text": [
      "   X  Y  S  Z\n",
      "0  0  0  a  1\n",
      "1  1  1  b  1\n",
      "2  2  2  c  2\n",
      "3  3  3  d  2\n",
      "4  4  4  e  2\n",
      "********************\n",
      "   0  0  a  1\n",
      "0  0  0  a  1\n",
      "1  1  1  b  1\n",
      "2  2  2  c  2\n",
      "3  3  3  d  2\n",
      "4  4  4  e  2\n"
     ]
    }
   ],
   "source": [
    "df1=pd.DataFrame({'X':range(5),'Y':range(5),'S':list(\"abcde\"),'Z':[1,1,2,2,2]})\n",
    "print(df1)\n",
    "print('*'*20)\n",
    "# 行转为列索引\n",
    "result = df1.set_axis(df1.iloc[0],axis=1,inplace=False)\n",
    "result.columns.name=None\n",
    "print(result)\n",
    " \n"
   ]
  },
  {
   "cell_type": "code",
   "execution_count": 156,
   "metadata": {},
   "outputs": [
    {
     "name": "stdout",
     "output_type": "stream",
     "text": [
      "     name gender  age\n",
      "0    Snow      M   22\n",
      "1  Tyrion      M   32\n",
      "2   Sansa      F   18\n",
      "3    Arya      F   14\n",
      "********************\n",
      "    name gender  age\n",
      "0   Snow      M   22\n",
      "1    111    222  333\n",
      "2  Sansa      F   18\n",
      "3   Arya      F   14\n"
     ]
    }
   ],
   "source": [
    "df1 = pd.DataFrame([['Snow','M',22],['Tyrion','M',32],['Sansa','F',18],['Arya','F',14]],\n",
    "                   columns=['name','gender','age'])\n",
    "print(df1)\n",
    "# 在数据框最后加上score一列\n",
    "# df1['score']=[80,98,67,90]   # 增加列的元素个数要跟原数据列的个数一样\n",
    "# print(df1)\n",
    "\n",
    "print('*'*20)\n",
    "\n",
    "# col_name=df1.columns.tolist()                   # 将数据框的列名全部提取出来存放在列表里\n",
    "# # print(type(col_name), col_name)\n",
    "\n",
    "# col_name.insert(2,'city')                      # 在列索引为2的位置插入一列,列名为:city，刚插入时不会有值，整列都是NaN\n",
    "# df1=df1.reindex(columns=col_name)              # DataFrame.reindex() 对原行/列索引重新构建索引值\n",
    "# print(df1)\n",
    "# df1['city']=['北京','山西','湖北','澳门']   # 给city列赋值\n",
    "# print(df1)\n",
    "\n",
    "\n",
    "'''\n",
    "df.insert(iloc,column,value)\n",
    "iloc:要插入的位置\n",
    "colunm:列名\n",
    "value:值\n",
    "'''\n",
    "\n",
    "\n",
    "\n",
    "\n",
    "\n",
    "# df1.insert(2,'score',[80,98,67,90])\n",
    "# print(df1)\n",
    "\n",
    "# # 插入一行\n",
    "row=['111','222','333']\n",
    "df1.iloc[1]=row\n",
    "print(df1)\n",
    "\n"
   ]
  },
  {
   "cell_type": "code",
   "execution_count": 167,
   "metadata": {},
   "outputs": [
    {
     "name": "stdout",
     "output_type": "stream",
     "text": [
      "     name gender  age\n",
      "0    Snow      M   22\n",
      "1  Tyrion      M   32\n",
      "2   Sansa      F   18\n",
      "3    Arya      F   14\n",
      "********************\n",
      "   name gender  age\n",
      "0  lisa      F   19\n",
      "-------在原数据框df1最后一行新增一行，用append方法------------\n",
      "     name gender  age\n",
      "0    Snow      M   22\n",
      "1  Tyrion      M   32\n",
      "2   Sansa      F   18\n",
      "3    Arya      F   14\n",
      "4    lisa      F   19\n"
     ]
    }
   ],
   "source": [
    "# 增加数据\n",
    "df1 = pd.DataFrame([['Snow','M',22],['Tyrion','M',32],['Sansa','F',18],['Arya','F',14]],\n",
    "                   columns=['name','gender','age'])\n",
    "\n",
    "print(df1)\n",
    "\n",
    "print('*'*20)\n",
    "\n",
    "# 先创建一个DataFrame，用来增加进数据框的最后一行\n",
    "new=pd.DataFrame({'name':'lisa',\n",
    "                  'gender':'F',\n",
    "                  'age':19\n",
    "                  },index=[0])\n",
    "print(new)\n",
    "print(\"-------在原数据框df1最后一行新增一行，用append方法------------\")\n",
    "df1 = df1.append(new,ignore_index=True)   # ignore_index=False,表示不按原来的索引，从0开始自动递增\n",
    "print(df1)\n",
    "\n"
   ]
  },
  {
   "cell_type": "code",
   "execution_count": 174,
   "metadata": {},
   "outputs": [
    {
     "name": "stdout",
     "output_type": "stream",
     "text": [
      "   four  five\n",
      "0     0     1\n",
      "1     2     3\n",
      "2     4     5\n",
      "********************\n",
      "   one  two  three\n",
      "0    0    1      2\n",
      "1    3    4      5\n",
      "********************\n",
      "   four  five\n",
      "0     0     1\n",
      "1     2     3\n",
      "2     4     5\n",
      "   one  two  three\n",
      "0    0    1      2\n",
      "1    3    4      5\n"
     ]
    }
   ],
   "source": [
    "# 合并\n",
    "'''\n",
    "objs:合并对象\n",
    "axis:合并方式，默认0表示按列合并，1表示按行合并\n",
    "ignore_index:是否忽略索引 \n",
    "'''\n",
    "df1 = pd.DataFrame(np.arange(6).reshape(3,2),columns=['four','five'])\n",
    "df2 = pd.DataFrame(np.arange(6).reshape(2,3),columns=['one','two','three'])\n",
    "print(df1)\n",
    "print('*'*20)\n",
    "print(df2)\n",
    "\n",
    "print('*'*20)\n",
    "# # 按行合并\n",
    "# result = pd.concat([df1,df2],axis=1)\n",
    "# print(result)\n",
    "\n",
    "# # # 按列合并\n",
    "# result = pd.concat([df1,df2],axis=0,ignore_index=True)\n",
    "# print(result)\n",
    "# print('*'*20)\n",
    "# result = df1.append(df2,ignore_index=True)\n",
    "# print(result)\n",
    " \n",
    "\n",
    "print(df1)\n",
    "print(df2)"
   ]
  },
  {
   "cell_type": "code",
   "execution_count": 182,
   "metadata": {},
   "outputs": [
    {
     "name": "stdout",
     "output_type": "stream",
     "text": [
      "   one  two  three\n",
      "0    0    1      2\n",
      "1    3    4      5\n",
      "2    6    7      8\n",
      "   two  three\n",
      "0    1      2\n",
      "1    4      5\n",
      "2    7      8\n",
      "   two  three\n",
      "2    7      8\n"
     ]
    }
   ],
   "source": [
    "# DataFrame的删除\n",
    "'''\n",
    "lables：要删除数据的标签\n",
    "axis：0表示删除行，1表示删除列，默认0\n",
    "inplace:是否在当前df中执行此操作\n",
    "'''\n",
    "df2 = pd.DataFrame(np.arange(9).reshape(3,3),columns=['one','two','three'])\n",
    "print(df2)\n",
    "df3=df2.drop(['one'],axis=1, inplace=True)\n",
    "\n",
    "df3=df2.drop([0,1],axis=0, inplace=False)\n",
    "print(df2)\n",
    "print(df3)\n"
   ]
  },
  {
   "cell_type": "code",
   "execution_count": 187,
   "metadata": {},
   "outputs": [
    {
     "name": "stdout",
     "output_type": "stream",
     "text": [
      "0    4.0\n",
      "1    NaN\n",
      "2    8.0\n",
      "3    NaN\n",
      "4    5.0\n",
      "dtype: float64\n",
      "0    4.0\n",
      "2    8.0\n",
      "4    5.0\n",
      "dtype: float64\n"
     ]
    }
   ],
   "source": [
    "## 4. 数据处理\n",
    " \n",
    "from numpy import nan as NaN\n",
    "# 通过**dropna()**滤除缺失数据：\n",
    "se=pd.Series([4,NaN,8,NaN,5])\n",
    "print(se)\n",
    "\n",
    "# print(se.dropna())\n",
    "# print(se.notnull())\n",
    "# print(se.isnull())\n",
    "\n",
    "# # 通过布尔序列也能滤除：\n",
    "print(se[se.notnull()])\n"
   ]
  },
  {
   "cell_type": "code",
   "execution_count": 195,
   "metadata": {},
   "outputs": [
    {
     "name": "stdout",
     "output_type": "stream",
     "text": [
      "     0   1    2\n",
      "0  1.0 NaN  3.0\n",
      "1  NaN NaN  2.0\n",
      "2  NaN NaN  NaN\n",
      "3  8.0 NaN  NaN\n",
      "     0   1    2\n",
      "0  1.0 NaN  3.0\n"
     ]
    }
   ],
   "source": [
    "# 2.2 处理DataFrame对象\n",
    "df1=pd.DataFrame([[1,NaN,3],[NaN,NaN,2],[NaN,NaN,NaN],[8,NaN,NaN]])\n",
    "print(df1)\n",
    "\n",
    "# 默认滤除所有包含NaN：\n",
    "# print(df1.dropna())\n",
    "\n",
    "# 传入how=‘all’滤除全为NaN的行：\n",
    "# print(df1.dropna(how='all')) # 默认情况下是how='any'，只要有nan就删除\n",
    "\n",
    "# 传入axis=1滤除列：\n",
    "# print(df1.dropna(axis=0,how=\"all\"))\n",
    "\n",
    "#传入thresh=n保留至少有n个非NaN数据的行：\n",
    "print(df1.dropna(thresh=2))\n",
    "\n"
   ]
  },
  {
   "cell_type": "code",
   "execution_count": 201,
   "metadata": {},
   "outputs": [
    {
     "name": "stdout",
     "output_type": "stream",
     "text": [
      "     0    1    2\n",
      "0  1.0  2.0  3.0\n",
      "1  NaN  NaN  2.0\n",
      "2  NaN  NaN  NaN\n",
      "3  8.0  8.0  NaN\n",
      "None\n",
      "     0    1    2\n",
      "0  1.0  2.0  3.0\n",
      "1  NaN  5.0  2.0\n",
      "2  NaN  5.0  NaN\n",
      "3  8.0  8.0  NaN\n"
     ]
    }
   ],
   "source": [
    "# 2.3 填充缺失数据\n",
    "df1=pd.DataFrame([[1,2,3],[NaN,NaN,2],[NaN,NaN,NaN],[8,8,NaN]])\n",
    "print(df1)\n",
    "\n",
    "# 用常数填充fillna\n",
    "# print(df1.fillna(0))\n",
    "\n",
    "#传入inplace=True直接修改原对象：\n",
    "# df1.fillna(0,inplace=True)\n",
    "# print(df1)\n",
    "\n",
    "# 通过字典填充不同的常数\n",
    "# print(df1.fillna({0:10,1:20,2:30})) \n",
    "\n",
    "# 填充平均值\n",
    "# print(df1.fillna(df1.mean()))\n",
    "# # 如果只填充一列\n",
    "print(df1.iloc[:,1].fillna(5,inplace = True))\n",
    "print(df1)\n",
    "\n"
   ]
  },
  {
   "cell_type": "code",
   "execution_count": 207,
   "metadata": {},
   "outputs": [
    {
     "name": "stdout",
     "output_type": "stream",
     "text": [
      "   0  1  2  3  4\n",
      "0  6  4  3  7  2\n",
      "1  4  1  6  0  7\n",
      "2  4  9  3  5  8\n",
      "3  7  4  0  3  6\n",
      "4  1  5  7  0  3\n",
      "********************\n",
      "   0  1  2    3    4\n",
      "0  6  4  3  7.0  2.0\n",
      "1  4  1  6  NaN  7.0\n",
      "2  4  9  3  NaN  NaN\n",
      "3  7  4  0  NaN  NaN\n",
      "4  1  5  7  0.0  3.0\n",
      "********************\n",
      "     0    1    2    3    4\n",
      "0  6.0  4.0  3.0  7.0  2.0\n",
      "1  4.0  1.0  6.0  6.0  7.0\n",
      "2  4.0  9.0  3.0  3.0  NaN\n",
      "3  7.0  4.0  0.0  0.0  NaN\n",
      "4  1.0  5.0  7.0  0.0  3.0\n"
     ]
    }
   ],
   "source": [
    "\n",
    "# 传入method=” “改变插值方式：\n",
    "df2=pd.DataFrame(np.random.randint(0,10,(5,5)))\n",
    "print(df2)\n",
    "print('*'*20)\n",
    "df2.iloc[1:4,3]=NaN\n",
    "df2.iloc[2:4,4]=NaN\n",
    "print(df2)\n",
    "print('*'*20)\n",
    "\n",
    "#用前面的值来填充ffill   用后面的值来填充bfill\n",
    "# print(df2.fillna(method='ffill'))\n",
    "\n",
    "\n",
    "# 传入limit=” “限制填充行数：\n",
    "# print(df2.fillna(method='bfill',limit=1))\n",
    "\n",
    "# 传入axis=” “修改填充方向：\n",
    "print(df2.fillna(method=\"ffill\",limit=1,axis=1))"
   ]
  },
  {
   "cell_type": "code",
   "execution_count": 216,
   "metadata": {},
   "outputs": [
    {
     "name": "stdout",
     "output_type": "stream",
     "text": [
      "   A  B\n",
      "0  1  a\n",
      "1  1  a\n",
      "2  1  b\n",
      "3  2  b\n",
      "4  2  b\n",
      "5  3  c\n",
      "6  1  a\n",
      "   A  B\n",
      "0  1  a\n",
      "2  1  b\n",
      "3  2  b\n",
      "5  3  c\n",
      "None\n"
     ]
    }
   ],
   "source": [
    "# 2.4 移除重复数据\n",
    "'''\n",
    "DataFrame中经常会出现重复行，利用duplicated()函数返回每一行判断是否重复的结果（重复则为True)\n",
    "'''\n",
    "df1=pd.DataFrame({'A':[1,1,1,2,2,3,1],'B':list(\"aabbbca\")})\n",
    "print(df1)\n",
    "\n",
    "# 判断每一行是否重复(结果是bool值，TRUE代表重复的)\n",
    "# print(df1.duplicated())\n",
    "\n",
    "# 去除全部的重复行\n",
    "# print(df1.drop_duplicates())\n",
    "\n",
    "# # 指定列去除重复行\n",
    "# print(df1.drop_duplicates(['A']))\n",
    "\n",
    "# 保留重复行中的最后一行\n",
    "# print(df1.drop_duplicates(['A'],keep='last'))\n",
    "\n",
    "# 去除重复的同时改变DataFrame对象\n",
    "c = df1.drop_duplicates(['A','B'],inplace=True)\n",
    "print(df1)\n",
    "print(c)\n"
   ]
  },
  {
   "cell_type": "code",
   "execution_count": 221,
   "metadata": {},
   "outputs": [
    {
     "name": "stdout",
     "output_type": "stream",
     "text": [
      "   Red  Green\n",
      "a    1      5\n",
      "b    3      0\n",
      "c    5      3\n",
      "   Blue  Yellow\n",
      "c     1       6\n",
      "d     9       6\n",
      "e     8       7\n"
     ]
    },
    {
     "data": {
      "text/html": [
       "<div>\n",
       "<style scoped>\n",
       "    .dataframe tbody tr th:only-of-type {\n",
       "        vertical-align: middle;\n",
       "    }\n",
       "\n",
       "    .dataframe tbody tr th {\n",
       "        vertical-align: top;\n",
       "    }\n",
       "\n",
       "    .dataframe thead th {\n",
       "        text-align: right;\n",
       "    }\n",
       "</style>\n",
       "<table border=\"1\" class=\"dataframe\">\n",
       "  <thead>\n",
       "    <tr style=\"text-align: right;\">\n",
       "      <th></th>\n",
       "      <th>Red</th>\n",
       "      <th>Green</th>\n",
       "      <th>Blue</th>\n",
       "      <th>Yellow</th>\n",
       "      <th>Brown</th>\n",
       "      <th>White</th>\n",
       "    </tr>\n",
       "  </thead>\n",
       "  <tbody>\n",
       "    <tr>\n",
       "      <th>a</th>\n",
       "      <td>1.0</td>\n",
       "      <td>5.0</td>\n",
       "      <td>NaN</td>\n",
       "      <td>NaN</td>\n",
       "      <td>3.0</td>\n",
       "      <td>1.0</td>\n",
       "    </tr>\n",
       "    <tr>\n",
       "      <th>b</th>\n",
       "      <td>3.0</td>\n",
       "      <td>0.0</td>\n",
       "      <td>NaN</td>\n",
       "      <td>NaN</td>\n",
       "      <td>NaN</td>\n",
       "      <td>NaN</td>\n",
       "    </tr>\n",
       "    <tr>\n",
       "      <th>c</th>\n",
       "      <td>5.0</td>\n",
       "      <td>3.0</td>\n",
       "      <td>1.0</td>\n",
       "      <td>6.0</td>\n",
       "      <td>NaN</td>\n",
       "      <td>NaN</td>\n",
       "    </tr>\n",
       "  </tbody>\n",
       "</table>\n",
       "</div>"
      ],
      "text/plain": [
       "   Red  Green  Blue  Yellow  Brown  White\n",
       "a  1.0    5.0   NaN     NaN    3.0    1.0\n",
       "b  3.0    0.0   NaN     NaN    NaN    NaN\n",
       "c  5.0    3.0   1.0     6.0    NaN    NaN"
      ]
     },
     "execution_count": 221,
     "metadata": {},
     "output_type": "execute_result"
    }
   ],
   "source": [
    "## 5. 数据合并\n",
    "\n",
    "\n",
    "\n",
    "# 使用join合并，着重关注的是行的合并\n",
    "import pandas as pd\n",
    "df3=pd.DataFrame({'Red':[1,3,5],'Green':[5,0,3]},index=list('abc'))\n",
    "df4=pd.DataFrame({'Blue':[1,9,8],'Yellow':[6,6,7]},index=list('cde'))\n",
    "print(df3)\n",
    "print(df4)\n",
    "\n",
    "# 简单合并（默认是left左连接,以左侧df3为基础）\n",
    "# df3.join(df4,how='left')\n",
    "\n",
    "# 右链接\n",
    "# df3.join(df4,how='right')\n",
    "\n",
    "# 外链接\n",
    "# df3.join(df4,how='outer')\n",
    "\n",
    "# 合并多个DataFrame对象\n",
    "df5=pd.DataFrame({'Brown':[3,4,5],'White':[1,1,2]},index=list('aed'))\n",
    "df3.join([df4,df5])\n"
   ]
  },
  {
   "cell_type": "code",
   "execution_count": 242,
   "metadata": {},
   "outputs": [
    {
     "name": "stdout",
     "output_type": "stream",
     "text": [
      "     名字 性别   职称\n",
      "1001  A  男  副教授\n",
      "1002  B  女   讲师\n",
      "1003  C  男   助教\n",
      "1004  D  男   教授\n",
      "1005  E  女   助教\n",
      "********************\n",
      "     名字     课程   职称\n",
      "1001  A    C++  副教授\n",
      "1002  B  计算机导论   讲师\n",
      "1004  D     汇编   教授\n",
      "1001  A   数据结构  副教授\n",
      "3001  X  马克思原理   讲师\n",
      "********************\n",
      "  名字 性别   职称     课程\n",
      "0  A  男  副教授    C++\n",
      "1  A  男  副教授   数据结构\n",
      "2  B  女   讲师  计算机导论\n",
      "3  D  男   教授     汇编\n"
     ]
    },
    {
     "data": {
      "text/html": [
       "<div>\n",
       "<style scoped>\n",
       "    .dataframe tbody tr th:only-of-type {\n",
       "        vertical-align: middle;\n",
       "    }\n",
       "\n",
       "    .dataframe tbody tr th {\n",
       "        vertical-align: top;\n",
       "    }\n",
       "\n",
       "    .dataframe thead th {\n",
       "        text-align: right;\n",
       "    }\n",
       "</style>\n",
       "<table border=\"1\" class=\"dataframe\">\n",
       "  <thead>\n",
       "    <tr style=\"text-align: right;\">\n",
       "      <th></th>\n",
       "      <th>名字</th>\n",
       "      <th>性别</th>\n",
       "      <th>职称</th>\n",
       "      <th>课程</th>\n",
       "    </tr>\n",
       "  </thead>\n",
       "  <tbody>\n",
       "    <tr>\n",
       "      <th>0</th>\n",
       "      <td>A</td>\n",
       "      <td>男</td>\n",
       "      <td>副教授</td>\n",
       "      <td>C++</td>\n",
       "    </tr>\n",
       "    <tr>\n",
       "      <th>1</th>\n",
       "      <td>A</td>\n",
       "      <td>男</td>\n",
       "      <td>副教授</td>\n",
       "      <td>数据结构</td>\n",
       "    </tr>\n",
       "    <tr>\n",
       "      <th>2</th>\n",
       "      <td>B</td>\n",
       "      <td>女</td>\n",
       "      <td>讲师</td>\n",
       "      <td>计算机导论</td>\n",
       "    </tr>\n",
       "    <tr>\n",
       "      <th>3</th>\n",
       "      <td>D</td>\n",
       "      <td>男</td>\n",
       "      <td>教授</td>\n",
       "      <td>汇编</td>\n",
       "    </tr>\n",
       "  </tbody>\n",
       "</table>\n",
       "</div>"
      ],
      "text/plain": [
       "  名字 性别   职称     课程\n",
       "0  A  男  副教授    C++\n",
       "1  A  男  副教授   数据结构\n",
       "2  B  女   讲师  计算机导论\n",
       "3  D  男   教授     汇编"
      ]
     },
     "execution_count": 242,
     "metadata": {},
     "output_type": "execute_result"
    }
   ],
   "source": [
    "# 使用merge，着重关注的是列的合并\n",
    "df1=pd.DataFrame({'名字':list('ABCDE'),'性别':['男','女','男','男','女'],'职称':['副教授','讲师','助教','教授','助教']},index=range(1001,1006))\n",
    "# df1.columns.name='学院老师'\n",
    "# df1.index.name='编号'\n",
    "print(df1)\n",
    "print('*'*20)\n",
    "df2=pd.DataFrame({'名字':list('ABDAX'),'课程':['C++','计算机导论','汇编','数据结构','马克思原理'],'职称':['副教授','讲师','教授','副教授','讲师']},index=[1001,1002,1004,1001,3001])\n",
    "# df2.columns.name='课程'\n",
    "# df2.index.name='编号'\n",
    "print(df2)\n",
    "\n",
    "print('*'*20)\n",
    "\n",
    "# 默认下是根据左右对象中出现同名的列作为连接的键，且连接方式是how=’inner’\n",
    "# print(pd.merge(df1,df2))# 返回匹配的\n",
    "\n",
    "# 指定列名合并\n",
    "# pd.merge(df1,df2,on='名字',suffixes=['_1','_2'])# 返回匹配的\n",
    "\n",
    "# # 连接方式，根据左侧为准\n",
    "# pd.merge(df1,df2,how='left')\n",
    "\n",
    "\n",
    "# # 根据左侧为准\n",
    "# pd.merge(df1,df2,how='right')\n",
    "\n",
    "# # 所有\n",
    "# pd.merge(df1,df2,how='outer')\n",
    "\n",
    "# # 根据多个键进行连接\n",
    "pd.merge(df1,df2,on=['职称','名字'])\n",
    "\n",
    "\n"
   ]
  },
  {
   "cell_type": "code",
   "execution_count": 255,
   "metadata": {},
   "outputs": [
    {
     "name": "stdout",
     "output_type": "stream",
     "text": [
      "a    1\n",
      "b    2\n",
      "dtype: int64\n",
      "b    3\n",
      "d    4\n",
      "e    5\n",
      "dtype: int64\n"
     ]
    },
    {
     "ename": "TypeError",
     "evalue": "concat() got an unexpected keyword argument 'axes'",
     "output_type": "error",
     "traceback": [
      "\u001b[1;31m---------------------------------------------------------------------------\u001b[0m",
      "\u001b[1;31mTypeError\u001b[0m                                 Traceback (most recent call last)",
      "\u001b[1;32m<ipython-input-255-6988f4f1156a>\u001b[0m in \u001b[0;36m<module>\u001b[1;34m\u001b[0m\n\u001b[0;32m     14\u001b[0m \u001b[1;33m\u001b[0m\u001b[0m\n\u001b[0;32m     15\u001b[0m \u001b[1;31m# 指定部分索引进行连接\u001b[0m\u001b[1;33m\u001b[0m\u001b[1;33m\u001b[0m\u001b[1;33m\u001b[0m\u001b[0m\n\u001b[1;32m---> 16\u001b[1;33m \u001b[0mpd\u001b[0m\u001b[1;33m.\u001b[0m\u001b[0mconcat\u001b[0m\u001b[1;33m(\u001b[0m\u001b[1;33m[\u001b[0m\u001b[0ms1\u001b[0m\u001b[1;33m,\u001b[0m\u001b[0ms2\u001b[0m\u001b[1;33m]\u001b[0m\u001b[1;33m,\u001b[0m\u001b[0maxis\u001b[0m\u001b[1;33m=\u001b[0m\u001b[1;36m1\u001b[0m\u001b[1;33m,\u001b[0m\u001b[0maxes\u001b[0m\u001b[1;33m=\u001b[0m\u001b[1;33m[\u001b[0m\u001b[0mlist\u001b[0m\u001b[1;33m(\u001b[0m\u001b[1;34m'abc'\u001b[0m\u001b[1;33m)\u001b[0m\u001b[1;33m]\u001b[0m\u001b[1;33m)\u001b[0m\u001b[1;33m\u001b[0m\u001b[1;33m\u001b[0m\u001b[0m\n\u001b[0m\u001b[0;32m     17\u001b[0m \u001b[1;33m\u001b[0m\u001b[0m\n\u001b[0;32m     18\u001b[0m \u001b[1;31m# 创建层次化索引\u001b[0m\u001b[1;33m\u001b[0m\u001b[1;33m\u001b[0m\u001b[1;33m\u001b[0m\u001b[0m\n",
      "\u001b[1;31mTypeError\u001b[0m: concat() got an unexpected keyword argument 'axes'"
     ]
    }
   ],
   "source": [
    " \n",
    "# 轴向连接-Concat\n",
    "# 1. Series对象的连接\n",
    "s1=pd.Series([1,2],index=list('ab'))\n",
    "s2=pd.Series([3,4,5],index=list('bde'))\n",
    "print(s1)\n",
    "print(s2)\n",
    "# pd.concat([s1,s2])\n",
    "\n",
    "#横向连接\n",
    "# pd.concat([s1,s2],axis=1)\n",
    "\n",
    "# 用内连接求交集(连接方式，共有’inner’,’left’,right’,’outer’)\n",
    "# pd.concat([s1,s2],axis=1,join='inner')\n",
    "\n",
    "\n",
    "\n",
    "# 创建层次化索引\n",
    "# pd.concat([s1,s2],keys=['A','B'])\n",
    "\n",
    "#当纵向连接时keys为列名\n",
    "# pd.concat([s1,s2],keys=['A','D'],axis=1)\n",
    "\n"
   ]
  },
  {
   "cell_type": "code",
   "execution_count": 260,
   "metadata": {},
   "outputs": [
    {
     "name": "stdout",
     "output_type": "stream",
     "text": [
      "   Red  Green\n",
      "a    1      5\n",
      "b    3      0\n",
      "d    5      3\n",
      "   Blue  Yellow\n",
      "c     1       6\n",
      "e     9       6\n"
     ]
    },
    {
     "data": {
      "text/html": [
       "<div>\n",
       "<style scoped>\n",
       "    .dataframe tbody tr th:only-of-type {\n",
       "        vertical-align: middle;\n",
       "    }\n",
       "\n",
       "    .dataframe tbody tr th {\n",
       "        vertical-align: top;\n",
       "    }\n",
       "\n",
       "    .dataframe thead tr th {\n",
       "        text-align: left;\n",
       "    }\n",
       "</style>\n",
       "<table border=\"1\" class=\"dataframe\">\n",
       "  <thead>\n",
       "    <tr>\n",
       "      <th></th>\n",
       "      <th colspan=\"2\" halign=\"left\">A</th>\n",
       "      <th colspan=\"2\" halign=\"left\">B</th>\n",
       "    </tr>\n",
       "    <tr>\n",
       "      <th></th>\n",
       "      <th>Red</th>\n",
       "      <th>Green</th>\n",
       "      <th>Blue</th>\n",
       "      <th>Yellow</th>\n",
       "    </tr>\n",
       "  </thead>\n",
       "  <tbody>\n",
       "    <tr>\n",
       "      <th>a</th>\n",
       "      <td>1.0</td>\n",
       "      <td>5.0</td>\n",
       "      <td>NaN</td>\n",
       "      <td>NaN</td>\n",
       "    </tr>\n",
       "    <tr>\n",
       "      <th>b</th>\n",
       "      <td>3.0</td>\n",
       "      <td>0.0</td>\n",
       "      <td>NaN</td>\n",
       "      <td>NaN</td>\n",
       "    </tr>\n",
       "    <tr>\n",
       "      <th>d</th>\n",
       "      <td>5.0</td>\n",
       "      <td>3.0</td>\n",
       "      <td>NaN</td>\n",
       "      <td>NaN</td>\n",
       "    </tr>\n",
       "    <tr>\n",
       "      <th>c</th>\n",
       "      <td>NaN</td>\n",
       "      <td>NaN</td>\n",
       "      <td>1.0</td>\n",
       "      <td>6.0</td>\n",
       "    </tr>\n",
       "    <tr>\n",
       "      <th>e</th>\n",
       "      <td>NaN</td>\n",
       "      <td>NaN</td>\n",
       "      <td>9.0</td>\n",
       "      <td>6.0</td>\n",
       "    </tr>\n",
       "  </tbody>\n",
       "</table>\n",
       "</div>"
      ],
      "text/plain": [
       "     A          B       \n",
       "   Red Green Blue Yellow\n",
       "a  1.0   5.0  NaN    NaN\n",
       "b  3.0   0.0  NaN    NaN\n",
       "d  5.0   3.0  NaN    NaN\n",
       "c  NaN   NaN  1.0    6.0\n",
       "e  NaN   NaN  9.0    6.0"
      ]
     },
     "execution_count": 260,
     "metadata": {},
     "output_type": "execute_result"
    }
   ],
   "source": [
    "# 2. DataFrame对象的连接\n",
    "df3=pd.DataFrame({'Red':[1,3,5],'Green':[5,0,3]},index=list('abd'))\n",
    "df4=pd.DataFrame({'Blue':[1,9],'Yellow':[6,6]},index=list('ce'))\n",
    "print(df3)\n",
    "print(df4)\n",
    "# pd.concat([df3,df4])\n",
    "# pd.concat([df3,df4],axis=1,keys=['A','B'])\n",
    "\n",
    "# 用字典的方式连接同样可以创建层次化列索引\n",
    "pd.concat({'A':df3,'B':df4},axis=1)\n",
    "\n",
    "\n"
   ]
  },
  {
   "cell_type": "code",
   "execution_count": 264,
   "metadata": {},
   "outputs": [
    {
     "name": "stdout",
     "output_type": "stream",
     "text": [
      "            zs   ls   ww   zl\n",
      "python 期中   34   12  107  122\n",
      "       期末   13  142   99   17\n",
      "math   期中   63   39   80   99\n",
      "       期末  100   46   82  114\n",
      "En     期中   57   51   19  120\n",
      "       期末   73  101  140    6\n"
     ]
    }
   ],
   "source": [
    "## 6. 多层索引（拓展）\n",
    "\n",
    "\n",
    "import numpy as np\n",
    "import pandas as pd\n",
    "from pandas import Series,DataFrame\n",
    "\n",
    "# Series也可以创建多层索引\n",
    "# s = Series(np.random.randint(0,150,size=6),index=list('abcdef'))\n",
    "# print(s)\n",
    "# s = Series(np.random.randint(0,150,size=6),\n",
    "#            index=[['a','a','b','b','c','c'],['期中','期末','期中','期末','期中','期末']])\n",
    "# print(s)\n",
    "\n",
    "# DataFrame创建多层索引\n",
    "df1 = DataFrame(np.random.randint(0,150,size=(6,4)),\n",
    "               columns = ['zs','ls','ww','zl'],\n",
    "               index = [['python','python','math','math','En','En'],['期中','期末','期中','期末','期中','期末']])\n",
    "print(df1)\n"
   ]
  },
  {
   "cell_type": "code",
   "execution_count": 268,
   "metadata": {},
   "outputs": [
    {
     "name": "stdout",
     "output_type": "stream",
     "text": [
      "MultiIndex([('python', '期中'),\n",
      "            ('python', '期末'),\n",
      "            (  'math', '期中'),\n",
      "            (  'math', '期末'),\n",
      "            (    'En', '期中'),\n",
      "            (    'En', '期末')],\n",
      "           )\n",
      "             0    1    2    3\n",
      "python 期中   47   20   53  140\n",
      "       期末  122   18  133   10\n",
      "math   期中   77    3   54  112\n",
      "       期末   86  148   64  113\n",
      "En     期中   13  131   82   47\n",
      "       期末   83   99   78  122\n",
      "             0    1    2    3\n",
      "期中 python   91   69  127    5\n",
      "   math     83  110  143   98\n",
      "   En       66  145  133   77\n",
      "期末 python   53  136   10    2\n",
      "   math    127   90  119  133\n",
      "   En      108   23  119    1\n"
     ]
    }
   ],
   "source": [
    "# 2. 特定结构\n",
    "class1=['python','python','math','math','En','En']\n",
    "class2=['期中','期末','期中','期末','期中','期末']\n",
    "m_index2=pd.MultiIndex.from_arrays([class1,class2])\n",
    "print(m_index2)\n",
    "df2=DataFrame(np.random.randint(0,150,(6,4)),index=m_index2)\n",
    "print(df2)\n",
    "\n",
    "class1=['期中','期中','期中','期末','期末','期末']\n",
    "class2=['python','math','En','python','math','En']\n",
    "m_index2=pd.MultiIndex.from_arrays([class1,class2])\n",
    "df2=DataFrame(np.random.randint(0,150,(6,4)),index=m_index2)\n",
    "print(df2)\n"
   ]
  },
  {
   "cell_type": "code",
   "execution_count": 270,
   "metadata": {},
   "outputs": [
    {
     "name": "stdout",
     "output_type": "stream",
     "text": [
      "MultiIndex([('python', '期中'),\n",
      "            ('python', '期末'),\n",
      "            (  'math', '期中'),\n",
      "            (  'math', '期末'),\n",
      "            (    'En', '期中'),\n",
      "            (    'En', '期末')],\n",
      "           )\n",
      "             0    1    2    3\n",
      "python 期中   11   61   87   54\n",
      "       期末  110   25  117  136\n",
      "math   期中   93  115   85   58\n",
      "       期末    6   39   14  136\n",
      "En     期中   30  118    3   95\n",
      "       期末  141  107   62  113\n"
     ]
    }
   ],
   "source": [
    "# 3. product构造\n",
    "class1=['python','math','En']\n",
    "class2=['期中','期末']\n",
    "m_index2=pd.MultiIndex.from_product([class1,class2])\n",
    "print(m_index2)\n",
    "df2=DataFrame(np.random.randint(0,150,(6,4)),index=m_index2)\n",
    "print(df2)\n",
    "\n",
    "\n"
   ]
  },
  {
   "cell_type": "code",
   "execution_count": 281,
   "metadata": {},
   "outputs": [
    {
     "name": "stdout",
     "output_type": "stream",
     "text": [
      "a  期中    39\n",
      "   期末    22\n",
      "b  期中    95\n",
      "   期末    15\n",
      "c  期中    25\n",
      "   期末    76\n",
      "dtype: int32\n",
      "22\n",
      "a  期末    22\n",
      "b  期中    95\n",
      "   期末    15\n",
      "dtype: int32\n"
     ]
    }
   ],
   "source": [
    "#多层索引对象的索引操作\n",
    "# series\n",
    "# s = Series(np.random.randint(0,150,size=6),\n",
    "#            index=[['a','a','b','b','c','c'],['期中','期末','期中','期末','期中','期末']])\n",
    "# print(s)\n",
    "# 取一个第一级索引\n",
    "# print(s['a'])\n",
    "\n",
    "# 取多个第一级索引\n",
    "# print(s[['a','b']])\n",
    "\n",
    "# 根据索引获取值\n",
    "# print(s['a','期末'])\n",
    "\n",
    "# loc方法取值\n",
    "# print(s.loc['a'])\n",
    "# print(s.loc[['a','b']])\n",
    "# print(s.loc['a','期末'])\n",
    "\n",
    "# iloc方法取值(iloc计算的事最内层索引)\n",
    "# print(s.iloc[1])\n",
    "\n",
    "# print(s.iloc[1:4])\n"
   ]
  },
  {
   "cell_type": "code",
   "execution_count": 292,
   "metadata": {},
   "outputs": [
    {
     "name": "stdout",
     "output_type": "stream",
     "text": [
      "             0    1    2    3\n",
      "python 期中  100   82   58   51\n",
      "       期末   93  135   93   92\n",
      "math   期中   51  119   52  127\n",
      "       期末   83   16   88  104\n",
      "En     期中  140   99  134   30\n",
      "       期末   16   77   98   38\n",
      "0    100\n",
      "1     82\n",
      "2     58\n",
      "3     51\n",
      "Name: (python, 期中), dtype: int32\n"
     ]
    }
   ],
   "source": [
    "\n",
    "# dataframe\n",
    "class1=['python','math','En']\n",
    "class2=['期中','期末']\n",
    "m_index2=pd.MultiIndex.from_product([class1,class2])\n",
    "df2=DataFrame(np.random.randint(0,150,(6,4)),index=m_index2)\n",
    "print(df2)\n",
    "\n",
    "# 获取列\n",
    "# print(df2[0])\n",
    "\n",
    "# 一级索引\n",
    "# print(df2.loc['python'])\n",
    "\n",
    "# 多个一级索引\n",
    "# print(df2.loc[['python','math']])\n",
    "\n",
    "# 取一行\n",
    "# print(df2.loc['python','期末'])\n",
    "\n",
    "# 取一值\n",
    "# print(df2.loc['python','期末'][0])\n",
    "\n",
    "# iloc是只取最内层的索引的\n",
    "print(df2.iloc[0])   \n"
   ]
  },
  {
   "cell_type": "code",
   "execution_count": 335,
   "metadata": {},
   "outputs": [
    {
     "name": "stdout",
     "output_type": "stream",
     "text": [
      "2019-01-01    0.743839\n",
      "2019-01-02   -0.743186\n",
      "2019-01-03    1.832228\n",
      "2019-01-04    0.514136\n",
      "2019-01-05   -0.761845\n",
      "2019-01-06   -0.494280\n",
      "2019-01-07   -0.451003\n",
      "2019-01-08   -1.919558\n",
      "2019-01-09   -1.350625\n",
      "2019-01-10    1.921558\n",
      "Freq: D, dtype: float64\n"
     ]
    },
    {
     "data": {
      "text/plain": [
       "Timestamp('2019-04-11 08:19:00')"
      ]
     },
     "execution_count": 335,
     "metadata": {},
     "output_type": "execute_result"
    }
   ],
   "source": [
    "import pandas as pd\n",
    "import numpy as np\n",
    "\n",
    "# 1. 生成一段时间范围\n",
    "'''\n",
    "该函数主要用于生成一个固定频率的时间索引，在调用构造方法时，必须指定start、end、periods中的两个参数值，否则报错。\n",
    "\n",
    "时间序列频率：\n",
    "    D        日历日的每天\n",
    "    B        工作日的每天\n",
    "    H        每小时\n",
    "    T或min   每分钟\n",
    "    S        每秒\n",
    "    L或ms    每毫秒\n",
    "    U        每微秒\n",
    "    M        日历日的月底日期\n",
    "    BM        工作日的月底日期\n",
    "    MS       日历日的月初日期\n",
    "    BMS      工作日的月初日期\n",
    "'''\n",
    "# date = pd.date_range(start='20190501',end='20190530')\n",
    "# print(date)\n",
    "\n",
    "# date = pd.date_range(start='20190501',periods=10,freq='10D')\n",
    "# print(date)\n",
    "\n",
    "# data_time =pd.date_range(start='2019-01-09',end='2019-01-14',closed='left')\n",
    "# print(data_time)\n",
    "\n",
    "\n",
    "# index = pd.date_range(start='20190101',periods=10)\n",
    "# df = pd.Series(np.random.randint(0,10,size = 10),index=index)\n",
    "# print(df)\n",
    "\n",
    "# after = df.truncate(after='2019-01-8')\n",
    "# print(after)\n",
    "\n",
    "\n",
    "# print(pd.date_range('1/1/2019',periods=1000))\n",
    "\n",
    "# long_ts = pd.Series(np.random.randn(1000),index=pd.date_range('8/1/2019',periods=1000))\n",
    "# print(long_ts)\n",
    "# 根据年份获取\n",
    "# result = long_ts['2019']\n",
    "# print(result)\n",
    "\n",
    "\n",
    "# result = long_ts['2020-05']\n",
    "# print(result)\n",
    "\n",
    "# result = long_ts['2020-05-01':'2020-05-06']\n",
    "# print(result)\n",
    "\n",
    "# 通过between_time()返回位于指定时间段的数据集\n",
    "# index=pd.date_range(\"2018-03-17\",\"2018-03-30\",freq=\"2H\")\n",
    "# ts = pd.Series(np.random.randn(157),index=index)\n",
    "# print(ts.between_time(\"7:00\",\"17:00\"))\n",
    "\n",
    "# index=pd.date_range('1/1/2019',periods=100)\n",
    "# df = pd.DataFrame(np.random.randn(100,4),index=index)\n",
    "# # print(df)\n",
    "# print(df.loc['2019-04'])\n",
    "\n",
    "ts = pd.Series(np.random.randn(10),index=pd.date_range('1/1/2019',periods=10))\n",
    "print(ts) \n",
    "# print(ts.shift(periods=2,fill_value=100,freq='D'))\n",
    "# print(ts)\n",
    "\n",
    "\n",
    "\n",
    "# 将时间戳转化成时间根式\n",
    "pd.to_datetime(1554970740000,unit='ms')"
   ]
  },
  {
   "cell_type": "code",
   "execution_count": 347,
   "metadata": {},
   "outputs": [
    {
     "name": "stdout",
     "output_type": "stream",
     "text": [
      "      time_stamp\n",
      "0  1554970740000\n",
      "1  1554970800000\n",
      "2  1554970860000\n"
     ]
    },
    {
     "data": {
      "text/plain": [
       "0   2019-04-11 16:19:00+08:00\n",
       "1   2019-04-11 16:20:00+08:00\n",
       "2   2019-04-11 16:21:00+08:00\n",
       "Name: time_stamp, dtype: datetime64[ns, Asia/Shanghai]"
      ]
     },
     "execution_count": 347,
     "metadata": {},
     "output_type": "execute_result"
    }
   ],
   "source": [
    "# print(pd.to_datetime(1554970740000,unit='ms').tz_localize('UTC'))\n",
    "# print(pd.to_datetime(1554970740000,unit='ms').tz_localize('UTC').tz_convert('Asia/Shanghai'))\n",
    "\n",
    "\n",
    "df = pd.DataFrame([1554970740000, 1554970800000, 1554970860000],columns = ['time_stamp'])\n",
    "print(df)\n",
    "# print(df['time_stamp'])\n",
    "pd.to_datetime(df['time_stamp'],unit='ms').dt.tz_localize('UTC').dt.tz_convert('Asia/Shanghai')#先赋予标准时区,再转换到东八区"
   ]
  },
  {
   "cell_type": "code",
   "execution_count": 348,
   "metadata": {},
   "outputs": [
    {
     "data": {
      "text/plain": [
       "Timestamp('2019-10-10 00:00:00')"
      ]
     },
     "execution_count": 348,
     "metadata": {},
     "output_type": "execute_result"
    }
   ],
   "source": [
    "# 处理中文\n",
    "pd.to_datetime('2019年10月10日',format='%Y年%m月%d日')"
   ]
  },
  {
   "cell_type": "code",
   "execution_count": 382,
   "metadata": {},
   "outputs": [
    {
     "data": {
      "text/html": [
       "<div>\n",
       "<style scoped>\n",
       "    .dataframe tbody tr th:only-of-type {\n",
       "        vertical-align: middle;\n",
       "    }\n",
       "\n",
       "    .dataframe tbody tr th {\n",
       "        vertical-align: top;\n",
       "    }\n",
       "\n",
       "    .dataframe thead th {\n",
       "        text-align: right;\n",
       "    }\n",
       "</style>\n",
       "<table border=\"1\" class=\"dataframe\">\n",
       "  <thead>\n",
       "    <tr style=\"text-align: right;\">\n",
       "      <th>Sex</th>\n",
       "      <th>F</th>\n",
       "      <th>M</th>\n",
       "    </tr>\n",
       "    <tr>\n",
       "      <th>Age</th>\n",
       "      <th></th>\n",
       "      <th></th>\n",
       "    </tr>\n",
       "  </thead>\n",
       "  <tbody>\n",
       "    <tr>\n",
       "      <th>(19, 40]</th>\n",
       "      <td>21</td>\n",
       "      <td>24</td>\n",
       "    </tr>\n",
       "    <tr>\n",
       "      <th>(40, 65]</th>\n",
       "      <td>23</td>\n",
       "      <td>21</td>\n",
       "    </tr>\n",
       "    <tr>\n",
       "      <th>(65, 100]</th>\n",
       "      <td>9</td>\n",
       "      <td>2</td>\n",
       "    </tr>\n",
       "  </tbody>\n",
       "</table>\n",
       "</div>"
      ],
      "text/plain": [
       "Sex         F   M\n",
       "Age              \n",
       "(19, 40]   21  24\n",
       "(40, 65]   23  21\n",
       "(65, 100]   9   2"
      ]
     },
     "execution_count": 382,
     "metadata": {},
     "output_type": "execute_result"
    }
   ],
   "source": [
    "import pandas as pd\n",
    "import numpy as np\n",
    "# df=pd.DataFrame({\n",
    "#     'name':['BOSS','Lilei','Lilei','Han','BOSS','BOSS','Han','BOSS'],\n",
    "#     'Year':[2016,2016,2016,2016,2017,2017,2017,2017],\n",
    "#     'Salary':[999999,20000,25000,3000,9999999,999999,3500,999999],\n",
    "#     'Bonus':[100000,20000,20000,5000,200000,300000,3000,400000]\n",
    "#     })\n",
    "\n",
    "# print(df)\n",
    "# print('*'*20)\n",
    "\n",
    "# 根据name这一列进行分组\n",
    "# group_by_name=df.groupby('name')\n",
    "# print(type(group_by_name))\n",
    "# 查看分组\n",
    "# print(group_by_name.groups)\n",
    "# 分组后的数量\n",
    "# print(group_by_name.count())\n",
    "\n",
    "\n",
    "# for name,group in group_by_name:\n",
    "#     print(name)# 组的名字\n",
    "#     print(group)# 组具体内容\n",
    "\n",
    "\n",
    "\n",
    "# 可以选择分组\n",
    "# print(group_by_name.get_group('BOSS'))\n",
    "    \n",
    "# 按照某一列进行分组, 将name这一列作为分组的键，对year进行分组\n",
    "\n",
    "# print(df['name'])\n",
    "# print(df['Year'])\n",
    "# group_by_name=df['Year'].groupby(df['name'])\n",
    "# print(group_by_name.count())\n",
    "\n",
    "\n",
    "# 按照多列进行分组\n",
    "# group_by_name_year=df.groupby(['name','Year'])\n",
    "\n",
    "# for name,group in group_by_name_year:\n",
    "#     print(name)# 组的名字\n",
    "#     print(group)# 组具体内容\n",
    "\n",
    "# # 可以选择分组\n",
    "# print(group_by_name_year.get_group(('BOSS',2016)))\n",
    "\n",
    "\n",
    "\n",
    "\n",
    "\n",
    "\n",
    "# 将某列数据按数据值分成不同范围段进行分组（groupby）运算\n",
    "df = pd.DataFrame({'Age': np.random.randint(20, 70, 100), \n",
    "                    'Sex': np.random.choice(['M', 'F'], 100), \n",
    "                    })\n",
    "age_groups = pd.cut(df['Age'], bins=[19,40,65,100])\n",
    "# print(type(age_groups))\n",
    "# print(type(age_groups[0]))\n",
    "# print(df.groupby(age_groups).count())\n",
    "\n",
    "# # 按‘Age’分组范围和性别（sex）进行制作交叉表\n",
    "pd.crosstab(age_groups, df['Sex'])\n"
   ]
  },
  {
   "cell_type": "code",
   "execution_count": 402,
   "metadata": {
    "scrolled": true
   },
   "outputs": [
    {
     "name": "stdout",
     "output_type": "stream",
     "text": [
      "   Data1  Data2 key1 key2\n",
      "0      1     10    a    x\n",
      "1      1     12    a    y\n",
      "2      3     15    b    y\n",
      "3      3     14    b    x\n",
      "4      1     13    a    y\n",
      "********************\n"
     ]
    },
    {
     "data": {
      "text/html": [
       "<div>\n",
       "<style scoped>\n",
       "    .dataframe tbody tr th:only-of-type {\n",
       "        vertical-align: middle;\n",
       "    }\n",
       "\n",
       "    .dataframe tbody tr th {\n",
       "        vertical-align: top;\n",
       "    }\n",
       "\n",
       "    .dataframe thead tr th {\n",
       "        text-align: left;\n",
       "    }\n",
       "\n",
       "    .dataframe thead tr:last-of-type th {\n",
       "        text-align: right;\n",
       "    }\n",
       "</style>\n",
       "<table border=\"1\" class=\"dataframe\">\n",
       "  <thead>\n",
       "    <tr>\n",
       "      <th></th>\n",
       "      <th colspan=\"2\" halign=\"left\">Data1</th>\n",
       "      <th>Data2</th>\n",
       "    </tr>\n",
       "    <tr>\n",
       "      <th></th>\n",
       "      <th>mean</th>\n",
       "      <th>max</th>\n",
       "      <th>sum</th>\n",
       "    </tr>\n",
       "    <tr>\n",
       "      <th>key1</th>\n",
       "      <th></th>\n",
       "      <th></th>\n",
       "      <th></th>\n",
       "    </tr>\n",
       "  </thead>\n",
       "  <tbody>\n",
       "    <tr>\n",
       "      <th>a</th>\n",
       "      <td>1</td>\n",
       "      <td>1</td>\n",
       "      <td>35</td>\n",
       "    </tr>\n",
       "    <tr>\n",
       "      <th>b</th>\n",
       "      <td>3</td>\n",
       "      <td>3</td>\n",
       "      <td>29</td>\n",
       "    </tr>\n",
       "  </tbody>\n",
       "</table>\n",
       "</div>"
      ],
      "text/plain": [
       "     Data1     Data2\n",
       "      mean max   sum\n",
       "key1                \n",
       "a        1   1    35\n",
       "b        3   3    29"
      ]
     },
     "execution_count": 402,
     "metadata": {},
     "output_type": "execute_result"
    }
   ],
   "source": [
    "df1=pd.DataFrame({'Data1':np.random.randint(0,10,5),\n",
    "                  'Data2':np.random.randint(10,20,5),\n",
    "                  'key1':list('aabba'),\n",
    "                  'key2':list('xyyxy')})\n",
    "print(df1)\n",
    "# 按key1分组，进行聚合计算\n",
    "# 注意：当分组后进行数值计算时，不是数值类的列（即麻烦列）会被清除\n",
    "# print(df1.groupby('key1').sum())\n",
    "print('*'*20)\n",
    "\n",
    "# 只算data1\n",
    "# print(df1['Data1'].groupby(df1['key1']).sum())\n",
    "# print(df1.groupby('key1')['Data1'].sum())\n",
    "\n",
    "# 使用agg()函数做聚合运算\n",
    "# print(df1.groupby('key1').agg('mean'))\n",
    "\n",
    "# 可以同时做多个聚合运算\n",
    "# print(df1.groupby('key1').agg(['sum','mean','std']))\n",
    "\n",
    "\n",
    "\n",
    "def peak_range(df):\n",
    "    \"\"\"\n",
    "        返回数值范围\n",
    "    \"\"\"\n",
    "    return df.max() - df.min()\n",
    "\n",
    "# print(df1.groupby('key1').agg(peak_range))\n",
    "\n",
    "# 同时应用多个聚合函数\n",
    "# print(df1.groupby('key1').agg(['mean', 'std', 'count', peak_range])) # 默认列名为函数名\n",
    "# print(df1.groupby('key1').agg(['mean', 'std', ('cn','count'), ('range', peak_range)])) # 通过元组提供新的列名\n",
    "\n",
    "# 给每列作用不同的聚合函数\n",
    "dict_mapping = {\n",
    "    'Data1':['mean','max'],\n",
    "    'Data2':'sum'\n",
    "}\n",
    "df1.groupby('key1').agg(dict_mapping)\n"
   ]
  },
  {
   "cell_type": "code",
   "execution_count": 431,
   "metadata": {},
   "outputs": [
    {
     "name": "stdout",
     "output_type": "stream",
     "text": [
      "  sex smoker  age  weight\n",
      "0   F      Y   21     120\n",
      "1   F      N   30     100\n",
      "2   M      Y   17     132\n",
      "3   F      Y   37     140\n",
      "4   M      N   40      94\n",
      "5   M      Y   18      89\n",
      "6   F      Y   26     123\n",
      "********************\n",
      "         sex smoker  age  weight\n",
      "smoker                          \n",
      "N      4   M      N   40      94\n",
      "       1   F      N   30     100\n",
      "Y      2   M      Y   17     132\n",
      "       3   F      Y   37     140\n",
      "       sex  age  weight\n",
      "smoker                 \n",
      "N        M   40     100\n",
      "Y        M   37     140\n"
     ]
    }
   ],
   "source": [
    "# 拓展apply函数\n",
    "# apply函数是pandas里面所有函数中自由度最高的函数\n",
    "df1=pd.DataFrame({'sex':list('FFMFMMF'),'smoker':list('YNYYNYY'),'age':[21,30,17,37,40,18,26],'weight':[120,100,132,140,94,89,123]})\n",
    "print(df1)\n",
    "print('*'*20)\n",
    "def bin_age(age):\n",
    "    if age >=18:\n",
    "        return 1\n",
    "    else:\n",
    "        return 0\n",
    "\n",
    "# 抽烟的年龄大于等18的\n",
    "# print(type(df1['age']))\n",
    "# print(df1['age'].apply(bin_age))\n",
    "# df1['age'] = df1['age'].apply(bin_age)\n",
    "# print(df1)\n",
    "\n",
    "# 取出抽烟和不抽烟的体重前二\n",
    "def top(smoker,col,n=5):\n",
    "#     print(type(smoker))\n",
    "    return smoker.sort_values(by=col)[-n:]\n",
    "\n",
    "# print(df1.groupby('smoker'))\n",
    "print(df1.groupby('smoker').apply(top,col='weight',n=2))\n",
    "print(df1.groupby('smoker').max())\n",
    "\n",
    "# print(df1.groupby('smoker').apply)\n",
    "# df1.sort_values(by='weight')"
   ]
  },
  {
   "cell_type": "code",
   "execution_count": 453,
   "metadata": {},
   "outputs": [
    {
     "name": "stdout",
     "output_type": "stream",
     "text": [
      "<pandas.core.groupby.generic.SeriesGroupBy object at 0x0F5A4350>\n"
     ]
    }
   ],
   "source": [
    "import pandas as pd\n",
    "from pandas import Series,DataFrame\n",
    "import numpy as np\n",
    "\n",
    "# 读取数据\n",
    "data = pd.read_csv('./movie_data.csv')\n",
    "# print('数据的形状：', data.shape)\n",
    "# print(data.head())\n",
    "# print(data)\n",
    "\n",
    "data = data.dropna(how='any')\n",
    "# print(data)\n",
    "# print(data.head())\n",
    "\n",
    "# group_director = data.groupby(by='director_name')['gross'].sum()\n",
    "# print(group_director)\n",
    "# print('*'*20)\n",
    "\n",
    "# result = group_director.sort_values(ascending=False)\n",
    "# print(type(result))\n",
    "# print(result)\n",
    "\n",
    "\n",
    "\n",
    "# 电影产量年份趋势\n",
    "from matplotlib import pyplot as plt\n",
    "import random\n",
    "from matplotlib import font_manager\n",
    "movie_years = data.groupby('title_year')['movie_title']\n",
    "\n",
    "print(movie_years)\n",
    "# print(movie_years.count().index.tolist())\n",
    "# print(movie_years.count().values)\n",
    "# x = movie_years.count().index.tolist()\n",
    "# y = movie_years.count().values\n",
    "# plt.figure(figsize=(20,8),dpi=80)\n",
    "# plt.plot(x,y)\n",
    "# plt.show()"
   ]
  },
  {
   "cell_type": "code",
   "execution_count": null,
   "metadata": {},
   "outputs": [],
   "source": []
  }
 ],
 "metadata": {
  "kernelspec": {
   "display_name": "Python 3",
   "language": "python",
   "name": "python3"
  },
  "language_info": {
   "codemirror_mode": {
    "name": "ipython",
    "version": 3
   },
   "file_extension": ".py",
   "mimetype": "text/x-python",
   "name": "python",
   "nbconvert_exporter": "python",
   "pygments_lexer": "ipython3",
   "version": "3.7.7"
  }
 },
 "nbformat": 4,
 "nbformat_minor": 4
}
