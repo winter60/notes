{
 "cells": [
  {
   "cell_type": "code",
   "execution_count": 19,
   "metadata": {},
   "outputs": [
    {
     "name": "stdout",
     "output_type": "stream",
     "text": [
      "h\n",
      "e\n",
      "l\n",
      "l\n",
      "o\n",
      "3\n",
      "4\n",
      "5\n",
      "8\n",
      "9\n",
      "10\n",
      "k\n",
      "key\n"
     ]
    }
   ],
   "source": [
    "# 1.1 迭代对象\n",
    "s = 'hello'\n",
    "lst = [3,4,5]\n",
    "dic = {'k':'v','key':'value'}\n",
    "st = set([8,9,10])\n",
    "\n",
    "for c in s:\n",
    "    print(c)\n",
    "for e in lst:\n",
    "    print(e)\n",
    "for e in st:\n",
    "    print(e)\n",
    "for e in dic:\n",
    "    print(e)\n",
    "\n",
    "# dir(s)\n"
   ]
  },
  {
   "cell_type": "code",
   "execution_count": null,
   "metadata": {},
   "outputs": [],
   "source": []
  },
  {
   "cell_type": "code",
   "execution_count": 27,
   "metadata": {},
   "outputs": [
    {
     "name": "stdout",
     "output_type": "stream",
     "text": [
      "a\n",
      "b\n",
      "c\n",
      "b\n"
     ]
    }
   ],
   "source": [
    "# 1.2 使用 __get_item__ \n",
    "\n",
    "class Foo:\n",
    "#     def __iter__(self):\n",
    "#         pass\n",
    "    def __getitem__(self,index):\n",
    "        return ['a','b','c'][index]\n",
    "#     def __len__(self):\n",
    "#         return 3\n",
    "foo = Foo()\n",
    "\n",
    "# from collections import abc\n",
    "# print(issubclass(Foo, abc.Iterable))\n",
    "# print(isinstance(foo, abc.Iterable))\n",
    "\n",
    "# iter(foo)\n",
    "\n",
    "for e in foo:\n",
    "    print(e)\n",
    "\n",
    "print(foo[1])"
   ]
  },
  {
   "cell_type": "code",
   "execution_count": 29,
   "metadata": {},
   "outputs": [
    {
     "name": "stdout",
     "output_type": "stream",
     "text": [
      "hello\n",
      "world\n",
      "haha\n",
      "hey\n",
      "ya\n"
     ]
    }
   ],
   "source": [
    "# 1.3 使用 __iter__ \n",
    "\n",
    "import re\n",
    "import reprlib\n",
    "\n",
    "RE_WORD = re.compile('\\w+')\n",
    "# 可迭代的类\n",
    "class Sentence:\n",
    "    def __init__(self, text):\n",
    "        self.text = text\n",
    "        self.words = RE_WORD.findall(text)\n",
    "    \n",
    "    def __repr__(self):\n",
    "        return 'Sentence(%s)' % reprlib.repr(self.text)\n",
    "\n",
    "    def __iter__(self):\n",
    "        return SentenceIterator(self.words)\n",
    "\n",
    "# 生成器\n",
    "class SentenceIterator:\n",
    "    def __init__(self, words):\n",
    "        self.words = words\n",
    "        self.index = 0\n",
    "\n",
    "    def __next__(self):\n",
    "        try:\n",
    "            word = self.words[self.index]\n",
    "        except IndexError:\n",
    "            raise StopIteration()\n",
    "        self.index += 1\n",
    "        return word\n",
    "\n",
    "    def __iter__(self):\n",
    "        return self\n",
    "\n",
    "s1 = Sentence('hello world , haha hey ya')\n",
    "for w in s1:\n",
    "    print(w)"
   ]
  },
  {
   "cell_type": "code",
   "execution_count": 39,
   "metadata": {},
   "outputs": [
    {
     "ename": "SyntaxError",
     "evalue": "invalid syntax (<ipython-input-39-6f8aebfdd9f1>, line 13)",
     "output_type": "error",
     "traceback": [
      "\u001b[1;36m  File \u001b[1;32m\"<ipython-input-39-6f8aebfdd9f1>\"\u001b[1;36m, line \u001b[1;32m13\u001b[0m\n\u001b[1;33m    3.__doc__\u001b[0m\n\u001b[1;37m            ^\u001b[0m\n\u001b[1;31mSyntaxError\u001b[0m\u001b[1;31m:\u001b[0m invalid syntax\n"
     ]
    }
   ],
   "source": [
    "# 1.4 使用 iter函数 返回迭代器\n",
    "siter = iter('雷好啊')\n",
    "print(siter)\n",
    "\n",
    "print(next(siter))\n",
    "print(next(siter))\n",
    "print(next(siter))\n",
    "\n",
    "# StopIteration\n",
    "# print(next(siter))\n",
    "\n",
    "# 3\n"
   ]
  },
  {
   "cell_type": "code",
   "execution_count": 46,
   "metadata": {},
   "outputs": [],
   "source": [
    "# 3.1 斐波拉奇\n"
   ]
  },
  {
   "cell_type": "code",
   "execution_count": 54,
   "metadata": {},
   "outputs": [
    {
     "name": "stdout",
     "output_type": "stream",
     "text": [
      "['hello', 'world', 'haha']\n",
      "<callable_iterator object at 0x00BB1E30>\n",
      "<re.Match object; span=(0, 5), match='hello'>\n"
     ]
    }
   ],
   "source": [
    "# 3.2\n",
    "import re\n",
    "text = 'hello world haha'\n",
    "RE_WORD = re.compile('\\w+')\n",
    "tall = RE_WORD.findall(text)\n",
    "print(tall)\n",
    "\n",
    "gen_tall = RE_WORD.finditer(text)\n",
    "print(gen_tall)\n",
    "\n",
    "print(next(gen_tall))\n",
    "doc()"
   ]
  },
  {
   "cell_type": "code",
   "execution_count": 56,
   "metadata": {},
   "outputs": [
    {
     "name": "stdout",
     "output_type": "stream",
     "text": [
      "<generator object gen_a at 0x00B3FB70>\n",
      "[3, 5, 6, 8]\n"
     ]
    }
   ],
   "source": [
    "#  3.3 yield from \n",
    "\n",
    "alst = [3,5,6,8]\n",
    "def gen_a(lst):\n",
    "    yield from lst\n",
    "ga = gen_a(alst)\n",
    "print(ga)\n",
    "print(list(ga))\n",
    "\n",
    "\n"
   ]
  },
  {
   "cell_type": "code",
   "execution_count": null,
   "metadata": {},
   "outputs": [],
   "source": [
    "# 4.1 itertool库\n",
    "\n"
   ]
  }
 ],
 "metadata": {
  "kernelspec": {
   "display_name": "Python 3",
   "language": "python",
   "name": "python3"
  },
  "language_info": {
   "codemirror_mode": {
    "name": "ipython",
    "version": 3
   },
   "file_extension": ".py",
   "mimetype": "text/x-python",
   "name": "python",
   "nbconvert_exporter": "python",
   "pygments_lexer": "ipython3",
   "version": "3.7.7"
  }
 },
 "nbformat": 4,
 "nbformat_minor": 4
}
