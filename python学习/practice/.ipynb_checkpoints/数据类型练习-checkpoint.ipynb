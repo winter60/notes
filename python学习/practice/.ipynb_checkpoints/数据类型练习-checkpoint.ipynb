{
 "cells": [
  {
   "cell_type": "code",
   "execution_count": 6,
   "metadata": {},
   "outputs": [],
   "source": [
    "vars = '123' \\\n",
    "'456'"
   ]
  },
  {
   "cell_type": "code",
   "execution_count": 2,
   "metadata": {},
   "outputs": [
    {
     "data": {
      "text/plain": [
       "'123456'"
      ]
     },
     "execution_count": 2,
     "metadata": {},
     "output_type": "execute_result"
    }
   ],
   "source": [
    "vars"
   ]
  },
  {
   "cell_type": "code",
   "execution_count": 10,
   "metadata": {},
   "outputs": [
    {
     "name": "stdout",
     "output_type": "stream",
     "text": [
      "岁月是把杀猪刀\b但是它拿长得丑的人一点办法都没有。。。\n"
     ]
    }
   ],
   "source": [
    "vars = '岁月是把杀猪刀\\b但是它拿长得丑的人一点办法都没有。。。'\n",
    "\n",
    "vars\n",
    "print(vars)"
   ]
  },
  {
   "cell_type": "code",
   "execution_count": 11,
   "metadata": {},
   "outputs": [
    {
     "name": "stdout",
     "output_type": "stream",
     "text": [
      "岁月是把杀猪刀，\\b但是它拿长得丑的人一点办法都没有。。。\n"
     ]
    }
   ],
   "source": [
    "vars = r'岁月是把杀猪刀，\\b但是它拿长得丑的人一点办法都没有。。。'\n",
    "print(vars)\n"
   ]
  },
  {
   "cell_type": "markdown",
   "metadata": {},
   "source": [
    "## format格式化"
   ]
  },
  {
   "cell_type": "markdown",
   "metadata": {},
   "source": [
    "### 1.普通方式"
   ]
  },
  {
   "cell_type": "code",
   "execution_count": 13,
   "metadata": {},
   "outputs": [
    {
     "name": "stdout",
     "output_type": "stream",
     "text": [
      "李白乘舟将欲行，互闻岸上踏歌声\n"
     ]
    }
   ],
   "source": [
    "a = '李白'\n",
    "vars = '{}乘舟将欲行，互闻岸上踏歌声'.format(a)\n",
    "print(vars)"
   ]
  },
  {
   "cell_type": "markdown",
   "metadata": {},
   "source": [
    "### 2. 索引号"
   ]
  },
  {
   "cell_type": "code",
   "execution_count": 15,
   "metadata": {},
   "outputs": [
    {
     "name": "stdout",
     "output_type": "stream",
     "text": [
      "c乘舟将欲行，互闻岸上b\n"
     ]
    }
   ],
   "source": [
    "vars = '{2}乘舟将欲行，互闻岸上{1}'.format('a','b','c')\n",
    "print(vars)"
   ]
  },
  {
   "cell_type": "markdown",
   "metadata": {},
   "source": [
    "### 3. 关键字传参"
   ]
  },
  {
   "cell_type": "code",
   "execution_count": 16,
   "metadata": {},
   "outputs": [
    {
     "name": "stdout",
     "output_type": "stream",
     "text": [
      "李白乘舟将欲行，互闻岸上踏歌声\n"
     ]
    }
   ],
   "source": [
    "vars = '{a}乘舟将欲行，互闻岸上{b}'.format(a='李白',b='踏歌声')\n",
    "print(vars)"
   ]
  },
  {
   "cell_type": "markdown",
   "metadata": {},
   "source": [
    "### 4. 容器类型传参"
   ]
  },
  {
   "cell_type": "code",
   "execution_count": 17,
   "metadata": {},
   "outputs": [
    {
     "name": "stdout",
     "output_type": "stream",
     "text": [
      "豪放派：李白，婉约派：辛弃疾，蛋黄派：达利园\n"
     ]
    }
   ],
   "source": [
    "vars = '豪放派：{0[0]}，婉约派：{0[1]}，蛋黄派：{0[2]}'.format(['李白','辛弃疾','达利园'])\n",
    "print(vars)"
   ]
  },
  {
   "cell_type": "code",
   "execution_count": 18,
   "metadata": {},
   "outputs": [
    {
     "name": "stdout",
     "output_type": "stream",
     "text": [
      "辛弃疾乘舟将欲行，互闻岸上蛋黄派\n"
     ]
    }
   ],
   "source": [
    "data = {'a':'辛弃疾','b':'蛋黄派'}\n",
    "vars = '{a}乘舟将欲行，互闻岸上{b}'.format(**data)\n",
    "print(vars)"
   ]
  },
  {
   "cell_type": "markdown",
   "metadata": {},
   "source": [
    "## 3.7语法糖 f"
   ]
  },
  {
   "cell_type": "code",
   "execution_count": 22,
   "metadata": {},
   "outputs": [
    {
     "name": "stdout",
     "output_type": "stream",
     "text": [
      "辛弃疾乘舟将欲行，互闻岸上蛋黄派\n"
     ]
    }
   ],
   "source": [
    "data = {'a':'辛弃疾','b':'蛋黄派'}\n",
    "vars = f'{data[\"a\"]}乘舟将欲行，互闻岸上{data[\"b\"]}'\n",
    "print(vars)"
   ]
  },
  {
   "cell_type": "code",
   "execution_count": 23,
   "metadata": {},
   "outputs": [
    {
     "name": "stdout",
     "output_type": "stream",
     "text": [
      "圆周率是多少：3.14\n"
     ]
    }
   ],
   "source": [
    "vars = '圆周率是多少：{:.2f}'.format(3.1415926)\n",
    "print(vars)"
   ]
  },
  {
   "cell_type": "code",
   "execution_count": 25,
   "metadata": {},
   "outputs": [
    {
     "name": "stdout",
     "output_type": "stream",
     "text": [
      "圆周率是多少：3.14\n"
     ]
    }
   ],
   "source": [
    "vars = '圆周率是多少：{:.2f}'.format(3.1415926)\n",
    "print(vars)"
   ]
  },
  {
   "cell_type": "markdown",
   "metadata": {},
   "source": [
    "## 英文字符与字符检测相关函数"
   ]
  },
  {
   "cell_type": "code",
   "execution_count": 29,
   "metadata": {},
   "outputs": [
    {
     "name": "stdout",
     "output_type": "stream",
     "text": [
      "I love you\n"
     ]
    }
   ],
   "source": [
    "varstr = 'i love you'\n",
    "res = varstr.capitalize()\n",
    "print(res)"
   ]
  },
  {
   "cell_type": "code",
   "execution_count": 30,
   "metadata": {},
   "outputs": [
    {
     "name": "stdout",
     "output_type": "stream",
     "text": [
      "I Love You\n"
     ]
    }
   ],
   "source": [
    "res = varstr.title()\n",
    "print(res)"
   ]
  },
  {
   "cell_type": "code",
   "execution_count": 31,
   "metadata": {},
   "outputs": [
    {
     "name": "stdout",
     "output_type": "stream",
     "text": [
      "I LOVE YOU\n"
     ]
    }
   ],
   "source": [
    "res = varstr.swapcase()\n",
    "print(res)"
   ]
  },
  {
   "cell_type": "code",
   "execution_count": 33,
   "metadata": {},
   "outputs": [
    {
     "data": {
      "text/plain": [
       "True"
      ]
     },
     "execution_count": 33,
     "metadata": {},
     "output_type": "execute_result"
    }
   ],
   "source": [
    "'s3'.isalnum()"
   ]
  },
  {
   "cell_type": "code",
   "execution_count": 37,
   "metadata": {},
   "outputs": [
    {
     "data": {
      "text/plain": [
       "False"
      ]
     },
     "execution_count": 37,
     "metadata": {},
     "output_type": "execute_result"
    }
   ],
   "source": [
    "'s s'.isalpha()"
   ]
  },
  {
   "cell_type": "code",
   "execution_count": 43,
   "metadata": {},
   "outputs": [
    {
     "data": {
      "text/plain": [
       "True"
      ]
     },
     "execution_count": 43,
     "metadata": {},
     "output_type": "execute_result"
    }
   ],
   "source": [
    "'\\t\\r\\n '.isspace()"
   ]
  },
  {
   "cell_type": "markdown",
   "metadata": {},
   "source": [
    "## 字符串常用方法(重点)"
   ]
  },
  {
   "cell_type": "code",
   "execution_count": 49,
   "metadata": {},
   "outputs": [
    {
     "data": {
      "text/plain": [
       "23"
      ]
     },
     "execution_count": 49,
     "metadata": {},
     "output_type": "execute_result"
    }
   ],
   "source": [
    "vars = 'iloveyoutosimidaandilikeyou'\n",
    "vars.find('ve')\n",
    "vars.find('e',5)"
   ]
  },
  {
   "cell_type": "code",
   "execution_count": 52,
   "metadata": {},
   "outputs": [
    {
     "data": {
      "text/plain": [
       "['user', 'admin', 'id', '123_4583']"
      ]
     },
     "execution_count": 52,
     "metadata": {},
     "output_type": "execute_result"
    }
   ],
   "source": [
    "vars = 'user_admin_id_123_4583'\n",
    "vars.split('_',3)"
   ]
  },
  {
   "cell_type": "code",
   "execution_count": 58,
   "metadata": {},
   "outputs": [
    {
     "name": "stdout",
     "output_type": "stream",
     "text": [
      "###这是一个是#文章的标题##\n",
      "  ###这是一个是#文章的标题##  \n",
      "###这是一个是#文章的标题##\n"
     ]
    }
   ],
   "source": [
    "vars = '  ###这是一个是#文章的标题##  '\n",
    "print(vars.strip())\n",
    "print(vars.strip('#'))\n",
    "print(vars.strip(' '))"
   ]
  },
  {
   "cell_type": "code",
   "execution_count": 64,
   "metadata": {},
   "outputs": [
    {
     "name": "stdout",
     "output_type": "stream",
     "text": [
      "******love\n"
     ]
    }
   ],
   "source": [
    "vars = 'love'\n",
    "res = vars.center(10)\n",
    "res = vars.center(12,'*')\n",
    "res = vars.ljust(10,'*')\n",
    "res = vars.rjust(10,'*')\n",
    "print(res)\n"
   ]
  },
  {
   "cell_type": "code",
   "execution_count": 65,
   "metadata": {},
   "outputs": [
    {
     "name": "stdout",
     "output_type": "stream",
     "text": [
      "333\r",
      "333fs\r",
      "ddd\n"
     ]
    }
   ],
   "source": [
    "print('333\\r333fs\\rddd')"
   ]
  },
  {
   "cell_type": "markdown",
   "metadata": {},
   "source": [
    "## 列表练习"
   ]
  },
  {
   "cell_type": "markdown",
   "metadata": {},
   "source": [
    "### 切片赋值 和删除"
   ]
  },
  {
   "cell_type": "code",
   "execution_count": 3,
   "metadata": {},
   "outputs": [
    {
     "name": "stdout",
     "output_type": "stream",
     "text": [
      "['1', '2', '3', 'a', 'b', '刘德华', '刘能', '宋小宝', '小沈阳', '张学友', '赵四', '黎明']\n",
      "['黎明', '赵四', '张学友', '小沈阳', '宋小宝', '刘能', '刘德华', 'b', 'a', '3', '2', '1']\n"
     ]
    }
   ],
   "source": [
    "varlist = ['刘德华','张学友','张国荣','黎明','郭富城','小沈阳','刘能','宋小宝','赵四']\n",
    "#varlist[2:6] = ['a','b','c',1,2,3]\n",
    "varlist[2:6:2] = ['a','b']\n",
    "varlist.extend('123')\n",
    "varlist.sort(reverse=False)\n",
    "print(varlist)\n",
    "varlist.sort(reverse=True)\n",
    "print(varlist)"
   ]
  },
  {
   "cell_type": "code",
   "execution_count": 13,
   "metadata": {},
   "outputs": [
    {
     "name": "stdout",
     "output_type": "stream",
     "text": [
      "[[2, 4, 6], [12, 15, 18], [28, 32, 36]]\n"
     ]
    }
   ],
   "source": [
    "M=[\n",
    "    [1,2,3],\n",
    "    [4,5,6],\n",
    "    [7,8,9]\n",
    "]\n",
    "\n",
    "N = [\n",
    "    [2,2,2],\n",
    "    [3,3,3],\n",
    "    [4,4,4]\n",
    "]\n",
    "l = [[M[i][j] * N[i][j] for j in range(len(M[i]))] for i in range(len(M)) ]\n",
    "print(l)"
   ]
  },
  {
   "cell_type": "markdown",
   "metadata": {},
   "source": [
    "### 深拷贝"
   ]
  },
  {
   "cell_type": "code",
   "execution_count": 15,
   "metadata": {},
   "outputs": [
    {
     "name": "stdout",
     "output_type": "stream",
     "text": [
      "[10, 20, [...]]\n",
      "[[10, 20, [...]], 30]\n"
     ]
    }
   ],
   "source": [
    "a = [10,20]\n",
    "b = [a, 30]\n",
    "a.append(a)\n",
    "print(a)\n",
    "print(b)"
   ]
  },
  {
   "cell_type": "code",
   "execution_count": null,
   "metadata": {},
   "outputs": [],
   "source": []
  }
 ],
 "metadata": {
  "kernelspec": {
   "display_name": "Python 3",
   "language": "python",
   "name": "python3"
  },
  "language_info": {
   "codemirror_mode": {
    "name": "ipython",
    "version": 3
   },
   "file_extension": ".py",
   "mimetype": "text/x-python",
   "name": "python",
   "nbconvert_exporter": "python",
   "pygments_lexer": "ipython3",
   "version": "3.7.7"
  }
 },
 "nbformat": 4,
 "nbformat_minor": 4
}
