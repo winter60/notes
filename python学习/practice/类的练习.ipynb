{
 "cells": [
  {
   "cell_type": "code",
   "execution_count": 7,
   "metadata": {},
   "outputs": [
    {
     "name": "stdout",
     "output_type": "stream",
     "text": [
      "color=白色,brand=奥迪,pailiang=2.4\n",
      "color=白色,brand=宝马,pailiang=2.4\n",
      "color=白色,brand=宝马,pailiang=2.4\n",
      "color=白色,brand=宝马,pailiang=2.4\n",
      "color=白色,brand=宝马,pailiang=2.4\n"
     ]
    }
   ],
   "source": [
    "#  类成员的操作\n",
    "# 定义一个汽车的类\n",
    "class Cart():\n",
    "    # 属性 ==> 特征 ==> 变量\n",
    "    color = '白色'  # 表示颜色属性\n",
    "    brand = '奥迪'  # 表示品牌属性\n",
    "    pailiang = 2.4 # 表示排列属性\n",
    "\n",
    "    # 方法 ==> 功能 ==> 函数\n",
    "    def lahuo(self):\n",
    "        print('小汽车能拉货')\n",
    "\n",
    "    def doufeng(self):\n",
    "        print('小汽车能兜风')\n",
    "\n",
    "    def bamei(self):\n",
    "        print('带妹子去嗨。。。')\n",
    "        \n",
    "    def __str__(self):\n",
    "        return f'color={self.color},brand={self.brand},pailiang={self.pailiang}'\n",
    "\n",
    "\n",
    "# 在类的外部，可以直接通过类对成员进行操作\n",
    "a = Cart()\n",
    "\n",
    "print(a)\n",
    "\n",
    "Cart.brand = '宝马'\n",
    "# print(Cart.brand)\n",
    "\n",
    "# 思考：如果通过类把属性进行类修改，那么再通过这个类实例化的对象，它的属性是什么呢？那之前创建的对象呢？\n",
    "b = Cart()\n",
    "\n",
    "print(b)# 是修改后的结果\n",
    "print(a) # 在类属性修改前创建的对象的属性也被修改\n",
    "\n",
    "\n",
    "#del Cart.brand\n",
    "print(a)\n",
    "print(b)"
   ]
  },
  {
   "cell_type": "code",
   "execution_count": null,
   "metadata": {},
   "outputs": [],
   "source": []
  }
 ],
 "metadata": {
  "kernelspec": {
   "display_name": "Python 3",
   "language": "python",
   "name": "python3"
  },
  "language_info": {
   "codemirror_mode": {
    "name": "ipython",
    "version": 3
   },
   "file_extension": ".py",
   "mimetype": "text/x-python",
   "name": "python",
   "nbconvert_exporter": "python",
   "pygments_lexer": "ipython3",
   "version": "3.7.7"
  }
 },
 "nbformat": 4,
 "nbformat_minor": 4
}
