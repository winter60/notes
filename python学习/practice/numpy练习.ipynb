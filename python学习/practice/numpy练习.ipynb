{
 "cells": [
  {
   "cell_type": "code",
   "execution_count": 4,
   "metadata": {},
   "outputs": [
    {
     "name": "stdout",
     "output_type": "stream",
     "text": [
      "3.8821024894714355 0.12798023223876953 0.02200484275817871\n"
     ]
    }
   ],
   "source": [
    "import random\n",
    "import time\n",
    "import numpy as np\n",
    "\n",
    "\n",
    "a = []\n",
    "t0 = time.time()\n",
    "for i in range(10000000):\n",
    "    a.append(random.random())\n",
    "    \n",
    "t1 = time.time()\n",
    "sum1=sum(a)\n",
    "t2=time.time()\n",
    "\n",
    "\n",
    "b=np.array(a)\n",
    "t4=time.time()\n",
    "sum3=np.sum(b)\n",
    "t5=time.time()\n",
    "print(t1-t0,t2-t1, t5-t4)"
   ]
  },
  {
   "cell_type": "code",
   "execution_count": 5,
   "metadata": {},
   "outputs": [
    {
     "name": "stdout",
     "output_type": "stream",
     "text": [
      "<class 'numpy.ndarray'> [1 2 3 4]\n"
     ]
    }
   ],
   "source": [
    "lst1 = [1,2,3,4]\n",
    "nar = np.array(lst1)\n",
    "print(type(nar), nar)"
   ]
  },
  {
   "cell_type": "code",
   "execution_count": 6,
   "metadata": {},
   "outputs": [
    {
     "name": "stdout",
     "output_type": "stream",
     "text": [
      "[0 1 2 3 4 5 6 7 8 9]\n"
     ]
    }
   ],
   "source": [
    "nar1 = np.array(range(10))\n",
    "print(nar1)"
   ]
  },
  {
   "cell_type": "code",
   "execution_count": 8,
   "metadata": {},
   "outputs": [
    {
     "name": "stdout",
     "output_type": "stream",
     "text": [
      "<class 'numpy.ndarray'> [0 2 4 6 8]\n"
     ]
    }
   ],
   "source": [
    "nar2 = np.arange(0,10,2)\n",
    "print(type(nar2), nar2)"
   ]
  },
  {
   "cell_type": "code",
   "execution_count": 15,
   "metadata": {},
   "outputs": [
    {
     "name": "stdout",
     "output_type": "stream",
     "text": [
      "2\n",
      "6\n",
      "(3, 2) <class 'tuple'>\n"
     ]
    }
   ],
   "source": [
    "nda = np.array([[1,2],[3,4],[8,9]])\n",
    "print(nda.ndim)\n",
    "print(nda.size)\n",
    "print(nda.shape, type(nda.shape))\n"
   ]
  },
  {
   "cell_type": "code",
   "execution_count": 21,
   "metadata": {},
   "outputs": [
    {
     "name": "stdout",
     "output_type": "stream",
     "text": [
      "[[1 2 3]\n",
      " [4 5 6]]\n",
      "(2, 3)\n",
      "[[1 2]\n",
      " [3 4]\n",
      " [5 6]]\n",
      "(3, 2)\n",
      "True\n",
      "False\n"
     ]
    }
   ],
   "source": [
    "four = np.array([[1,2,3],[4,5,6]])\n",
    "print(four)\n",
    "print(four.shape)\n",
    "four.shape = (3,2) \n",
    "print(four)\n",
    "print(four.shape)\n",
    "\n",
    "six = four\n",
    "print(six is four)\n",
    "five = four.reshape(3,2)\n",
    "print(five is four)\n"
   ]
  },
  {
   "cell_type": "code",
   "execution_count": 34,
   "metadata": {},
   "outputs": [
    {
     "name": "stdout",
     "output_type": "stream",
     "text": [
      "[1 2 3 4 5 6]\n",
      "[1 2 3 4 5 6]\n"
     ]
    }
   ],
   "source": [
    "four = np.array([[1,2,3],[4,5,6]])\n",
    "five = four.reshape((6,),order='C')\n",
    "print(five)\n",
    "\n",
    "six = four.flatten(order='F')\n",
    "print(six)\n",
    "\n"
   ]
  },
  {
   "cell_type": "code",
   "execution_count": 38,
   "metadata": {},
   "outputs": [
    {
     "name": "stdout",
     "output_type": "stream",
     "text": [
      "[[[ 0  1  2  3]\n",
      "  [ 4  5  6  7]\n",
      "  [ 8  9 10 11]]\n",
      "\n",
      " [[12 13 14 15]\n",
      "  [16 17 18 19]\n",
      "  [20 21 22 23]]]\n"
     ]
    }
   ],
   "source": [
    "t = np.arange(24)\n",
    "t1 = t.reshape(4,6)\n",
    "# print(t1)\n",
    "\n",
    "t2 = t.reshape((2,3,4))\n",
    "# t2 = t.reshape(2,3,4)\n",
    "print(t2)"
   ]
  },
  {
   "cell_type": "code",
   "execution_count": 40,
   "metadata": {},
   "outputs": [
    {
     "name": "stdout",
     "output_type": "stream",
     "text": [
      "<class 'numpy.ndarray'> <class 'list'>\n",
      "[ 1 34  4]\n",
      "[1, 34, 4]\n"
     ]
    }
   ],
   "source": [
    "a = np.array([1,34,4])\n",
    "b = a.tolist()\n",
    "print(type(a),type(b))\n",
    "\n",
    "print(a)\n",
    "print(b)"
   ]
  },
  {
   "cell_type": "code",
   "execution_count": 55,
   "metadata": {},
   "outputs": [
    {
     "name": "stdout",
     "output_type": "stream",
     "text": [
      "2\n",
      "int16\n",
      "int64\n",
      "0.02\n",
      "[0.86586536 0.29565881 0.1836054  0.44626674 0.26901334 0.02483189\n",
      " 0.30408559 0.53414897 0.92462966 0.72379604]\n",
      "[0.87 0.3  0.18 0.45 0.27 0.02 0.3  0.53 0.92 0.72]\n",
      "False\n"
     ]
    }
   ],
   "source": [
    "f = np.array([1,2,3,4,5], dtype=np.int16)\n",
    "print(f.itemsize)\n",
    "print(f.dtype)\n",
    "\n",
    "f1 = f.astype(np.int64)\n",
    "print(f1.dtype)\n",
    "\n",
    "\n",
    "print(round(random.random(), 2))\n",
    "arr = np.array([random.random() for i in range(10)])\n",
    "print(arr)\n",
    "arr2 = np.round(arr,2)\n",
    "\n",
    "\n",
    "print(arr2)\n",
    "print(arr is arr2)"
   ]
  },
  {
   "cell_type": "code",
   "execution_count": 65,
   "metadata": {},
   "outputs": [
    {
     "name": "stdout",
     "output_type": "stream",
     "text": [
      "False\n",
      "[[ 0  1  2  3]\n",
      " [ 4  5  6  7]\n",
      " [ 8  9 10 11]\n",
      " [12 13 14 15]\n",
      " [16 17 18 19]\n",
      " [20 21 22 23]]\n",
      "[[ 0  2  4  6]\n",
      " [ 8 10 12 14]\n",
      " [16 18 20 22]\n",
      " [24 26 28 30]\n",
      " [32 34 36 38]\n",
      " [40 42 44 46]]\n"
     ]
    }
   ],
   "source": [
    "t1 =  np.arange(24).reshape(6,4)\n",
    "t2 = t1 * 2\n",
    "print(t1 is t2)\n",
    "print(t1)\n",
    "print(t2)"
   ]
  },
  {
   "cell_type": "code",
   "execution_count": 69,
   "metadata": {},
   "outputs": [
    {
     "ename": "ValueError",
     "evalue": "cannot reshape array of size 24 into shape (3,4)",
     "output_type": "error",
     "traceback": [
      "\u001b[1;31m---------------------------------------------------------------------------\u001b[0m",
      "\u001b[1;31mValueError\u001b[0m                                Traceback (most recent call last)",
      "\u001b[1;32m<ipython-input-69-bc2940a29e31>\u001b[0m in \u001b[0;36m<module>\u001b[1;34m\u001b[0m\n\u001b[0;32m      1\u001b[0m \u001b[0mt1\u001b[0m \u001b[1;33m=\u001b[0m \u001b[0mnp\u001b[0m\u001b[1;33m.\u001b[0m\u001b[0marange\u001b[0m\u001b[1;33m(\u001b[0m\u001b[1;36m24\u001b[0m\u001b[1;33m)\u001b[0m\u001b[1;33m.\u001b[0m\u001b[0mreshape\u001b[0m\u001b[1;33m(\u001b[0m\u001b[1;36m6\u001b[0m\u001b[1;33m,\u001b[0m\u001b[1;36m4\u001b[0m\u001b[1;33m)\u001b[0m\u001b[1;33m\u001b[0m\u001b[1;33m\u001b[0m\u001b[0m\n\u001b[1;32m----> 2\u001b[1;33m \u001b[0mt2\u001b[0m \u001b[1;33m=\u001b[0m \u001b[0mnp\u001b[0m\u001b[1;33m.\u001b[0m\u001b[0marange\u001b[0m\u001b[1;33m(\u001b[0m\u001b[1;36m100\u001b[0m\u001b[1;33m,\u001b[0m\u001b[1;36m124\u001b[0m\u001b[1;33m)\u001b[0m\u001b[1;33m.\u001b[0m\u001b[0mreshape\u001b[0m\u001b[1;33m(\u001b[0m\u001b[1;36m3\u001b[0m\u001b[1;33m,\u001b[0m\u001b[1;36m4\u001b[0m\u001b[1;33m)\u001b[0m\u001b[1;33m\u001b[0m\u001b[1;33m\u001b[0m\u001b[0m\n\u001b[0m\u001b[0;32m      3\u001b[0m \u001b[1;33m\u001b[0m\u001b[0m\n\u001b[0;32m      4\u001b[0m \u001b[0mprint\u001b[0m\u001b[1;33m(\u001b[0m\u001b[0mt1\u001b[0m\u001b[1;33m+\u001b[0m\u001b[0mt2\u001b[0m\u001b[1;33m)\u001b[0m\u001b[1;33m\u001b[0m\u001b[1;33m\u001b[0m\u001b[0m\n\u001b[0;32m      5\u001b[0m \u001b[0mprint\u001b[0m\u001b[1;33m(\u001b[0m\u001b[0mt1\u001b[0m\u001b[1;33m*\u001b[0m\u001b[0mt2\u001b[0m\u001b[1;33m)\u001b[0m\u001b[1;33m\u001b[0m\u001b[1;33m\u001b[0m\u001b[0m\n",
      "\u001b[1;31mValueError\u001b[0m: cannot reshape array of size 24 into shape (3,4)"
     ]
    }
   ],
   "source": [
    "t1 = np.arange(24).reshape(6,4)\n",
    "t2 = np.arange(100,124).reshape(3,4)\n",
    "\n",
    "print(t1+t2)\n",
    "print(t1*t2)"
   ]
  },
  {
   "cell_type": "code",
   "execution_count": 76,
   "metadata": {},
   "outputs": [
    {
     "name": "stdout",
     "output_type": "stream",
     "text": [
      "[[ 0  1  2  3  4  5]\n",
      " [ 6  7  8  9 10 11]\n",
      " [12 13 14 15 16 17]\n",
      " [18 19 20 21 22 23]]\n",
      "[0 1 2 3 4 5]\n",
      "[[ 0  0  0  0  0  0]\n",
      " [ 6  6  6  6  6  6]\n",
      " [12 12 12 12 12 12]\n",
      " [18 18 18 18 18 18]]\n"
     ]
    }
   ],
   "source": [
    "t1 = np.arange(24).reshape(4,6)\n",
    "t2 = np.arange(0,6)\n",
    "print(t1)\n",
    "# print(t1.shape)\n",
    "print(t2)\n",
    "# print(t2.shape)\n",
    "\n",
    "print(t1 - t2)"
   ]
  },
  {
   "cell_type": "code",
   "execution_count": 77,
   "metadata": {},
   "outputs": [
    {
     "name": "stdout",
     "output_type": "stream",
     "text": [
      "[[ 0  1  2  3  4  5]\n",
      " [ 6  7  8  9 10 11]\n",
      " [12 13 14 15 16 17]\n",
      " [18 19 20 21 22 23]]\n",
      "[[0]\n",
      " [1]\n",
      " [2]\n",
      " [3]]\n",
      "[[ 0  1  2  3  4  5]\n",
      " [ 5  6  7  8  9 10]\n",
      " [10 11 12 13 14 15]\n",
      " [15 16 17 18 19 20]]\n"
     ]
    }
   ],
   "source": [
    "t1 = np.arange(24).reshape(4,6)\n",
    "t2 = np.arange(4).reshape(4,1)\n",
    "print(t1)\n",
    "# print(t1.shape)\n",
    "print(t2)\n",
    "# print(t2.shape)\n",
    "\n",
    "print(t1 - t2)"
   ]
  },
  {
   "cell_type": "code",
   "execution_count": 80,
   "metadata": {},
   "outputs": [
    {
     "name": "stdout",
     "output_type": "stream",
     "text": [
      "[2 4 6]\n",
      "2 [0 1 2 3 4 5 6 7 8 9]\n",
      "[2 3 4 5 6 7 8 9]\n"
     ]
    }
   ],
   "source": [
    "a = np.arange(10)\n",
    "print(a[2:7:2])\n",
    "print(a[2],a)\n",
    "print(a[2:])"
   ]
  },
  {
   "cell_type": "code",
   "execution_count": 95,
   "metadata": {},
   "outputs": [
    {
     "name": "stdout",
     "output_type": "stream",
     "text": [
      "[[ 0  1  2  3  4  5]\n",
      " [ 6  7  8  9 10 11]\n",
      " [12 13 14 15 16 17]\n",
      " [18 19 20 21 22 23]]\n",
      "********************\n",
      "[0 7 9]\n"
     ]
    }
   ],
   "source": [
    "t1 = np.arange(24 ).reshape(4,6)\n",
    "print(t1)\n",
    "print('*'*20)\n",
    "# print(t1[1])\n",
    "# print(t1[1,:])\n",
    "# print(t1[1:3,:])\n",
    "\n",
    "# print(t1[[0,2,3]])\n",
    "# print(t1[:,1:])\n",
    "# print(t1[:, [0,2,3]])\n",
    "# print(t1[2,3])\n",
    "print(t1[[0,1,1],[0,1,3]])\n"
   ]
  },
  {
   "cell_type": "code",
   "execution_count": 100,
   "metadata": {},
   "outputs": [
    {
     "name": "stdout",
     "output_type": "stream",
     "text": [
      "[[ 0  1  2  3  4  5]\n",
      " [ 6  7  8  9 10 11]\n",
      " [12 13 14 15 16 17]\n",
      " [18 19 20 21 22 23]]\n",
      "********************\n",
      "[[ 0  0  0  0  0  0]\n",
      " [ 0  0  0  0 10 11]\n",
      " [12  0 14 15 16 17]\n",
      " [18  0 20 21 22 23]]\n"
     ]
    }
   ],
   "source": [
    "t1 = np.arange(24 ).reshape(4,6)\n",
    "print(t1)\n",
    "print('*'*20)\n",
    "t1[:,1] = 0\n",
    "t1[t1<10] = 0\n",
    "print(t1)\n"
   ]
  },
  {
   "cell_type": "code",
   "execution_count": 106,
   "metadata": {},
   "outputs": [
    {
     "name": "stdout",
     "output_type": "stream",
     "text": [
      "[[1 2 3]\n",
      " [4 5 6]]\n",
      "********************\n",
      "[[1 2 3]\n",
      " [4 5 6]\n",
      " [7 8 9]]\n",
      "********************\n",
      "[[1 2 3 5 5 5]\n",
      " [4 5 6 6 6 6]]\n"
     ]
    }
   ],
   "source": [
    "# 添加\n",
    "\n",
    "a = np.array([[1,2,3],[4,5,6]])\n",
    "print(a)\n",
    "print('*'*20)\n",
    "\n",
    "# b = np.append(a, [7,8,9])\n",
    "# print(a is b )\n",
    "# print(a)\n",
    "# print('*'*20)\n",
    "# print(b)\n",
    "\n",
    "print(np.append(a, [[7,8,9]], axis = 0))\n",
    "print('*'*20)\n",
    "print(np.append(a, [[5,5,5],[6,6,6]], axis = 1))"
   ]
  },
  {
   "cell_type": "code",
   "execution_count": 112,
   "metadata": {
    "scrolled": true
   },
   "outputs": [
    {
     "name": "stdout",
     "output_type": "stream",
     "text": [
      "[[1 2]\n",
      " [3 4]\n",
      " [5 6]]\n",
      "********************\n",
      "[[ 1  2]\n",
      " [11 11]\n",
      " [ 3  4]\n",
      " [ 5  6]]\n",
      "********************\n",
      "[[ 1  2]\n",
      " [11 11]\n",
      " [ 3  4]\n",
      " [ 5  6]]\n",
      "********************\n",
      "[[ 1 11  2]\n",
      " [ 3 11  4]\n",
      " [ 5 11  6]]\n",
      "********************\n",
      "[[ 1 11  2]\n",
      " [ 3 11  4]\n",
      " [ 5 11  6]]\n"
     ]
    }
   ],
   "source": [
    "#　insert\n",
    "a = np.array([[1,2],[3,4],[5,6]])\n",
    "print(a)\n",
    "print('*'*20)\n",
    "\n",
    "# b = np.insert(a, 3, [11,12])\n",
    "# print(a is b)\n",
    "# print(b)\n",
    "print(np.insert(a, 1, 11, axis = 0))\n",
    "print('*'*20)\n",
    "print(np.insert(a, 1, [11], axis = 0))\n",
    "print('*'*20)\n",
    "print(np.insert(a, 1, [11], axis = 1))\n",
    "print('*'*20)\n",
    "print(np.insert(a, 1, 11, axis = 1))"
   ]
  },
  {
   "cell_type": "code",
   "execution_count": 114,
   "metadata": {},
   "outputs": [
    {
     "name": "stdout",
     "output_type": "stream",
     "text": [
      "[[ 0  1  2  3]\n",
      " [ 4  5  6  7]\n",
      " [ 8  9 10 11]]\n",
      "********************\n",
      "[[ 0  2  3]\n",
      " [ 4  6  7]\n",
      " [ 8 10 11]]\n"
     ]
    }
   ],
   "source": [
    "# 删除\n",
    "a = np.arange(12).reshape(3,4)\n",
    "print(a)\n",
    "print('*'*20)\n",
    "\n",
    "# print(np.delete(a,5))\n",
    "print(np.delete(a,1,axis=1))"
   ]
  },
  {
   "cell_type": "code",
   "execution_count": 126,
   "metadata": {},
   "outputs": [
    {
     "name": "stdout",
     "output_type": "stream",
     "text": [
      "[5 2 6 2 7 5 6 8 2 9]\n",
      "********************\n",
      "[2 5 6 7 8 9]\n",
      "********************\n",
      "[1 0 2 4 7 9]\n",
      "********************\n",
      "********************\n",
      "[2 5 6 7 8 9]\n",
      "********************\n",
      "[1 0 2 0 3 1 2 4 0 5]\n"
     ]
    }
   ],
   "source": [
    "a = np.array([5,2,6,2,7,5,6,8,2,9])\n",
    "print(a)\n",
    "print('*'*20)\n",
    "\n",
    "# print(np.unique(a))\n",
    "u,indices = np.unique(a, return_index=True)\n",
    "\n",
    "print(u)\n",
    "print('*'*20)\n",
    "print(indices) \n",
    "print('*'*20)\n",
    "print('*'*20)\n",
    "u,indices = np.unique(a, return_inverse=True)\n",
    "print(u)\n",
    "print('*'*20)\n",
    "print(indices) "
   ]
  },
  {
   "cell_type": "code",
   "execution_count": 127,
   "metadata": {},
   "outputs": [
    {
     "name": "stdout",
     "output_type": "stream",
     "text": [
      "[5 2 6 2 7 5 6 8 2 9]\n",
      "********************\n",
      "[2 5 6 7 8 9]\n",
      "[3 2 2 1 1 1]\n"
     ]
    }
   ],
   "source": [
    "a = np.array([5,2,6,2,7,5,6,8,2,9])\n",
    "print(a)\n",
    "print('*'*20)\n",
    "u,indices = np.unique(a, return_counts = True)\n",
    "print(u)\n",
    "print(indices)"
   ]
  },
  {
   "cell_type": "code",
   "execution_count": 133,
   "metadata": {},
   "outputs": [
    {
     "name": "stdout",
     "output_type": "stream",
     "text": [
      "[[80 88]\n",
      " [82 81]\n",
      " [75 81]]\n",
      "[82 88]\n",
      "[88 82 81]\n"
     ]
    }
   ],
   "source": [
    "#numpy 的计算\n",
    "score = np.array([[80,88],[82,81],[75,81]])\n",
    "print(score)\n",
    "\n",
    "# result = np.max(score)\n",
    "# print(result)\n",
    "result = np.max(score, axis = 0)\n",
    "print(result)\n",
    "\n",
    "result = np.max(score, axis = 1)\n",
    "print(result)"
   ]
  },
  {
   "cell_type": "code",
   "execution_count": 154,
   "metadata": {},
   "outputs": [
    {
     "name": "stdout",
     "output_type": "stream",
     "text": [
      "[[83 88]\n",
      " [82 81]\n",
      " [75 81]]\n",
      "********************\n",
      "[75 81]\n",
      "[2 1]\n"
     ]
    }
   ],
   "source": [
    "#numpy 的计算\n",
    "score = np.array([[83,88],[82,81],[75,81]])\n",
    "print(score)\n",
    "print('*'*20)\n",
    "\n",
    "# print(np.maximum([-2,-1,0,1,2],0))\n",
    "# print(np.minimum([-2,-1,0,1,2],0))\n",
    "# print(np.maximum([2,-1,0,1,2],[1,2,3,4,5]))\n",
    "# print(np.mean(score))\n",
    "# print(np.mean(score, axis=0))\n",
    "\n",
    "print(np.min(socre,axis = 0))\n",
    "print(np.argmin(score, axis=0))\n",
    "# print(np.argmax(score, axis=0))w"
   ]
  },
  {
   "cell_type": "code",
   "execution_count": 148,
   "metadata": {},
   "outputs": [
    {
     "name": "stdout",
     "output_type": "stream",
     "text": [
      "[[1 2 3]\n",
      " [4 5 6]\n",
      " [8 8 8]]\n",
      "[[ 1  2  3]\n",
      " [ 5  7  9]\n",
      " [13 15 17]]\n",
      "[[ 1  3  6]\n",
      " [ 4  9 15]\n",
      " [ 8 16 24]]\n"
     ]
    }
   ],
   "source": [
    "arr = np.array([[1,2,3], [4,5,6],[8,8,8]])\n",
    "print(arr)\n",
    "print(arr.cumsum(0))\n",
    "print(arr.cumsum(1))"
   ]
  },
  {
   "cell_type": "code",
   "execution_count": 164,
   "metadata": {},
   "outputs": [
    {
     "name": "stdout",
     "output_type": "stream",
     "text": [
      "[[[1 2]\n",
      "  [3 4]]\n",
      "\n",
      " [[5 6]\n",
      "  [7 8]]]\n",
      "********************\n",
      "[[[1 2]\n",
      "  [5 6]]\n",
      "\n",
      " [[3 4]\n",
      "  [7 8]]]\n"
     ]
    }
   ],
   "source": [
    "# 拼接\n",
    "a = np.array([[1,2],[3,4]])\n",
    "b = np.array([[5,6],[7,8]])\n",
    "# print(np.concatenate((a,b), axis=0))\n",
    "# print(np.concatenate((a,b), axis=1))\n",
    "print(np.stack((a,b), axis = 0))\n",
    "print('*'*20)\n",
    "print(np.stack((a,b), axis = 1))"
   ]
  },
  {
   "cell_type": "code",
   "execution_count": 168,
   "metadata": {},
   "outputs": [
    {
     "name": "stdout",
     "output_type": "stream",
     "text": [
      "[[[ 0  1  2  3  4  5]\n",
      "  [ 6  7  8  9 10 11]]\n",
      "\n",
      " [[12 13 14 15 16 17]\n",
      "  [18 19 20 21 22 23]]]\n",
      "********************\n",
      "[[[ 0  1  2  3  4  5]\n",
      "  [12 13 14 15 16 17]]\n",
      "\n",
      " [[ 6  7  8  9 10 11]\n",
      "  [18 19 20 21 22 23]]]\n",
      "********************\n",
      "[[ 0  1  2  3  4  5]\n",
      " [ 6  7  8  9 10 11]\n",
      " [12 13 14 15 16 17]\n",
      " [18 19 20 21 22 23]]\n",
      "********************\n",
      "[[ 0  1  2  3  4  5 12 13 14 15 16 17]\n",
      " [ 6  7  8  9 10 11 18 19 20 21 22 23]]\n"
     ]
    }
   ],
   "source": [
    "# 矩阵垂直拼接\n",
    "v1 = [[0,1,2,3,4,5],[6,7,8,9,10,11]]\n",
    "v2 = [[12,13,14,15,16,17],[18,19,20,21,22,23]]\n",
    "\n",
    "print(np.stack((v1,v2), axis = 0))\n",
    "print('*'*20)\n",
    "print(np.stack((v1,v2), axis = 1))\n",
    "print('*'*20)\n",
    "print(np.vstack((v1,v2)))\n",
    "print('*'*20)\n",
    "print(np.hstack((v1,v2)))"
   ]
  },
  {
   "cell_type": "code",
   "execution_count": 35,
   "metadata": {},
   "outputs": [
    {
     "name": "stdout",
     "output_type": "stream",
     "text": [
      "[[ 0  1  2  3]\n",
      " [ 4  5  6  7]\n",
      " [ 8  9 10 11]]\n",
      "[array([[0, 1, 2, 3]]), array([[4, 5, 6, 7]]), array([[ 8,  9, 10, 11]])]\n"
     ]
    }
   ],
   "source": [
    "import numpy as np\n",
    "# 数组的分隔\n",
    "arr = np.arange(12).reshape(3,4)\n",
    "print(arr)\n",
    "\n",
    "# b = np.split(arr,3)\n",
    "# print(b)\n",
    "\n",
    "print(np.split(arr,3,axis = 0))\n",
    "# print(np.split(arr,4,axis = 1))\n",
    "\n",
    "# harr = np.floor(10 * np.random.random((2,6)))                                                                                                                                                                                                                                                                                                                                                                                                                                                                                                                                                                                                                                                                                                                                                                                                                                                                                                                                                                                                                                                                                                                                                                                                                                                                                                                                                                                                                                                                                                                                                                                                                                                                                                                                                                                                                                                                                                                                                                                                                                                                                                                                                                                                                                                                                                                                                                                                                                                                                                                                                                                                                                                                                                                                                                                                                                                                                                                                                                                                                                                                                                                                                                                                                                                                                                                                                                                                                                                                                                                                                                                                                                                                                                                                                                                                                                                                                                                                                                                                                                                                                                                                                                                                                                                                                                                                                                                                                                                                                                                                                                                                                                                                                                                                                                                                                                                                                                                                                                                                                                                                                            \n",
    "# print(harr)\n",
    "# print(np.hsplit(harr,3))\n",
    "\n",
    "# print(np.hsplit(arr, 4))\n"
   ]
  },
  {
   "cell_type": "code",
   "execution_count": 31,
   "metadata": {},
   "outputs": [],
   "source": [
    "# a = np.arange(16).reshape(4,4)\n",
    "# print(np.vsplit(a,2))"
   ]
  },
  {
   "cell_type": "code",
   "execution_count": 51,
   "metadata": {},
   "outputs": [
    {
     "name": "stdout",
     "output_type": "stream",
     "text": [
      "nan <class 'float'>\n",
      "inf <class 'float'>\n",
      "23\n",
      "[[ 0.  1.  2.  3.  4.  5.]\n",
      " [ 6.  7.  8.  9. 10. 11.]\n",
      " [12. 13. 14. 15. 16. 17.]\n",
      " [18. 19. 20. 21. nan 23.]]\n",
      "1\n",
      "[36. 40. 44. 48. nan 56.]\n",
      "[[ 0.  1.  2.  3.  4.  5.]\n",
      " [ 6.  7.  8.  9. 10. 11.]\n",
      " [12. 13. 14. 15. 16. 17.]\n",
      " [18. 19. 20. 21.  0. 23.]]\n"
     ]
    }
   ],
   "source": [
    "a = np.nan\n",
    "b = np.inf\n",
    "print(a,type(a))\n",
    "print(b,type(b))\n",
    "\n",
    "t = np.arange(24,dtype=float).reshape(4,6)\n",
    "print(np.count_nonzero(t))\n",
    "t[3,4] = np.nan\n",
    "print(t)\n",
    "\n",
    "# print(np.nan == np.nan)\n",
    "print(np.count_nonzero(t != t))\n",
    "print(np.sum(t,axis = 0))\n",
    "\n",
    "t[np.isnan(t)] = 0\n",
    "print(t)"
   ]
  },
  {
   "cell_type": "code",
   "execution_count": 57,
   "metadata": {},
   "outputs": [
    {
     "name": "stdout",
     "output_type": "stream",
     "text": [
      "[[ 0.  1.  2.  3.  4.  5.]\n",
      " [ 6.  7.  8.  9. 10. 11.]\n",
      " [12. 13. 14. 15. 16. 17.]\n",
      " [18. 19. 20. 21. 22. 23.]]\n",
      "[[ 0.  1.  2.  3.  4.  5.]\n",
      " [ 6.  7.  8. nan nan nan]\n",
      " [12. 13. 14. 15. 16. 17.]\n",
      " [18. 19. 20. 21. 22. 23.]]\n"
     ]
    }
   ],
   "source": [
    "t = np.arange(24).reshape(4,6).astype('float')\n",
    "print(t)\n",
    "t[1,3:] = np.nan\n",
    "print(t)\n",
    "\n",
    "\n",
    "# print(t[np.isnan(t)])"
   ]
  },
  {
   "cell_type": "code",
   "execution_count": 61,
   "metadata": {},
   "outputs": [
    {
     "name": "stdout",
     "output_type": "stream",
     "text": [
      "[[ 0  1  2  3]\n",
      " [ 4  5  6  7]\n",
      " [ 8  9 10 11]]\n",
      "[[ 0  4  8]\n",
      " [ 1  5  9]\n",
      " [ 2  6 10]\n",
      " [ 3  7 11]]\n",
      "[[ 0  4  8]\n",
      " [ 1  5  9]\n",
      " [ 2  6 10]\n",
      " [ 3  7 11]]\n"
     ]
    }
   ],
   "source": [
    "# 二维数组的转置\n",
    "a = np.arange(12).reshape(3,4)\n",
    "print(a)\n",
    "print(np.transpose(a))\n",
    "print(a.T)"
   ]
  },
  {
   "cell_type": "code",
   "execution_count": 63,
   "metadata": {},
   "outputs": [
    {
     "name": "stdout",
     "output_type": "stream",
     "text": [
      "[[ 0  1  2  3  4  5]\n",
      " [ 6  7  8  9 10 11]\n",
      " [12 13 14 15 16 17]\n",
      " [18 19 20 21 22 23]]\n",
      "********************\n",
      "[[ 0  6 12 18]\n",
      " [ 1  7 13 19]\n",
      " [ 2  8 14 20]\n",
      " [ 3  9 15 21]\n",
      " [ 4 10 16 22]\n",
      " [ 5 11 17 23]]\n",
      "********************\n",
      "[[ 0  1  2  3  4  5]\n",
      " [ 6  7  8  9 10 11]\n",
      " [12 13 14 15 16 17]\n",
      " [18 19 20 21 22 23]]\n"
     ]
    }
   ],
   "source": [
    "t = np.arange(24).reshape(4,6)\n",
    "re = t.swapaxes(1,0)\n",
    "print(t)\n",
    "print('*'*20)\n",
    "print(re)\n",
    "print('*'*20)\n",
    "print(t)"
   ]
  },
  {
   "cell_type": "code",
   "execution_count": 87,
   "metadata": {},
   "outputs": [
    {
     "name": "stdout",
     "output_type": "stream",
     "text": [
      "2\n"
     ]
    }
   ],
   "source": [
    "c = np.array([2,3])\n",
    "d = np.array([2,4])\n",
    "print(sum(c == d))"
   ]
  },
  {
   "cell_type": "code",
   "execution_count": null,
   "metadata": {},
   "outputs": [],
   "source": []
  }
 ],
 "metadata": {
  "kernelspec": {
   "display_name": "Python 3",
   "language": "python",
   "name": "python3"
  },
  "language_info": {
   "codemirror_mode": {
    "name": "ipython",
    "version": 3
   },
   "file_extension": ".py",
   "mimetype": "text/x-python",
   "name": "python",
   "nbconvert_exporter": "python",
   "pygments_lexer": "ipython3",
   "version": "3.7.7"
  }
 },
 "nbformat": 4,
 "nbformat_minor": 4
}
