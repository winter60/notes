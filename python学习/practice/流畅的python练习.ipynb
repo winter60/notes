{
 "cells": [
  {
   "cell_type": "code",
   "execution_count": 3,
   "metadata": {},
   "outputs": [],
   "source": [
    "import collections\n",
    "Card = collections.namedtuple('Card', ['rank', 'suit'])\n",
    "\n",
    "\n",
    "class FrenchDeck:\n",
    "    ranks = [str(n) for n in range(2, 11)] + list('JQKA')\n",
    "    suits = 'spades diamonds clubs hearts'.split()\n",
    "    \n",
    "    def __init__(self):\n",
    "        self._cards = [Card(rank, suit) for suit in self.suits\n",
    "            for rank in self.ranks]\n",
    "        \n",
    "    def __len__(self):\n",
    "        return len(self._cards)\n",
    "    \n",
    "    def __getitem__(self, position):\n",
    "        return self._cards[position]\n",
    "    \n",
    "   "
   ]
  },
  {
   "cell_type": "code",
   "execution_count": 10,
   "metadata": {},
   "outputs": [
    {
     "name": "stdout",
     "output_type": "stream",
     "text": [
      "Card(rank='4', suit='spades')\n",
      "Card(rank='3', suit='spades')\n",
      "Card(rank='2', suit='spades')\n"
     ]
    }
   ],
   "source": [
    "deck = FrenchDeck()\n",
    " \n",
    "# from random import choice\n",
    "# choice(deck)\n",
    "for card in reversed(deck[:3]): # doctest: +ELLIPSIS \n",
    "    print(card)\n"
   ]
  },
  {
   "cell_type": "code",
   "execution_count": 14,
   "metadata": {},
   "outputs": [
    {
     "name": "stdout",
     "output_type": "stream",
     "text": [
      "<class 'dict'>\n",
      "{'color': 'green', 'points': 5}\n",
      "<class 'dict'>\n",
      "{'spades': 3, 'hearts': 2, 'diamonds': 1, 'clubs': 0}\n"
     ]
    }
   ],
   "source": [
    "c = {'color': 'green', 'points': 5}\n",
    "d = dict(spades=3, hearts=2, diamonds=1, clubs=0)\n",
    "print(type(c))\n",
    "print(c)\n",
    "print(type(d))\n",
    "print(d)"
   ]
  },
  {
   "cell_type": "code",
   "execution_count": 22,
   "metadata": {},
   "outputs": [
    {
     "name": "stdout",
     "output_type": "stream",
     "text": [
      "['2', '3', '4', '5', '6', '7', '8', '9', '10']\n",
      "1\n"
     ]
    }
   ],
   "source": [
    "c = [str(n) for n in range(2, 11)]\n",
    "print(c)\n",
    "print(c.index('3'))\n"
   ]
  },
  {
   "cell_type": "code",
   "execution_count": 35,
   "metadata": {},
   "outputs": [
    {
     "data": {
      "text/plain": [
       "<slot wrapper '__repr__' of 'dict' objects>"
      ]
     },
     "execution_count": 35,
     "metadata": {},
     "output_type": "execute_result"
    }
   ],
   "source": [
    "dict.__repr__"
   ]
  },
  {
   "cell_type": "code",
   "execution_count": 38,
   "metadata": {},
   "outputs": [
    {
     "ename": "AttributeError",
     "evalue": "'wrapper_descriptor' object has no attribute '__file__'",
     "output_type": "error",
     "traceback": [
      "\u001b[1;31m---------------------------------------------------------------------------\u001b[0m",
      "\u001b[1;31mAttributeError\u001b[0m                            Traceback (most recent call last)",
      "\u001b[1;32m<ipython-input-38-fffcd67420a8>\u001b[0m in \u001b[0;36m<module>\u001b[1;34m\u001b[0m\n\u001b[1;32m----> 1\u001b[1;33m \u001b[0mdict\u001b[0m\u001b[1;33m.\u001b[0m\u001b[0m__repr__\u001b[0m\u001b[1;33m.\u001b[0m\u001b[0m__file__\u001b[0m\u001b[1;33m\u001b[0m\u001b[1;33m\u001b[0m\u001b[0m\n\u001b[0m",
      "\u001b[1;31mAttributeError\u001b[0m: 'wrapper_descriptor' object has no attribute '__file__'"
     ]
    }
   ],
   "source": [
    "dict.__repr__.__file__"
   ]
  },
  {
   "cell_type": "code",
   "execution_count": 41,
   "metadata": {},
   "outputs": [
    {
     "data": {
      "text/plain": [
       "1"
      ]
     },
     "execution_count": 41,
     "metadata": {},
     "output_type": "execute_result"
    }
   ],
   "source": [
    "[3,4,5,3].count(4)"
   ]
  },
  {
   "cell_type": "markdown",
   "metadata": {},
   "source": [
    "## 元组+="
   ]
  },
  {
   "cell_type": "code",
   "execution_count": 1,
   "metadata": {},
   "outputs": [
    {
     "ename": "NameError",
     "evalue": "name 't2' is not defined",
     "output_type": "error",
     "traceback": [
      "\u001b[1;31m---------------------------------------------------------------------------\u001b[0m",
      "\u001b[1;31mNameError\u001b[0m                                 Traceback (most recent call last)",
      "\u001b[1;32m<ipython-input-1-d1a440312c73>\u001b[0m in \u001b[0;36m<module>\u001b[1;34m\u001b[0m\n\u001b[0;32m      1\u001b[0m \u001b[0mt\u001b[0m \u001b[1;33m=\u001b[0m \u001b[1;33m(\u001b[0m\u001b[1;36m1\u001b[0m\u001b[1;33m,\u001b[0m \u001b[1;36m2\u001b[0m\u001b[1;33m,\u001b[0m \u001b[1;33m[\u001b[0m\u001b[1;36m30\u001b[0m\u001b[1;33m,\u001b[0m \u001b[1;36m40\u001b[0m\u001b[1;33m]\u001b[0m\u001b[1;33m)\u001b[0m\u001b[1;33m\u001b[0m\u001b[1;33m\u001b[0m\u001b[0m\n\u001b[1;32m----> 2\u001b[1;33m \u001b[0mt2\u001b[0m \u001b[1;33m+=\u001b[0m \u001b[1;33m[\u001b[0m\u001b[1;36m50\u001b[0m\u001b[1;33m,\u001b[0m \u001b[1;36m60\u001b[0m\u001b[1;33m]\u001b[0m\u001b[1;33m\u001b[0m\u001b[1;33m\u001b[0m\u001b[0m\n\u001b[0m",
      "\u001b[1;31mNameError\u001b[0m: name 't2' is not defined"
     ]
    }
   ],
   "source": [
    "t = (1, 2, [30, 40])\n",
    "t2 += [50, 60]\n"
   ]
  },
  {
   "cell_type": "code",
   "execution_count": 2,
   "metadata": {},
   "outputs": [
    {
     "ename": "TypeError",
     "evalue": "'tuple' object does not support item assignment",
     "output_type": "error",
     "traceback": [
      "\u001b[1;31m---------------------------------------------------------------------------\u001b[0m",
      "\u001b[1;31mTypeError\u001b[0m                                 Traceback (most recent call last)",
      "\u001b[1;32m<ipython-input-2-71eb9ae69b05>\u001b[0m in \u001b[0;36m<module>\u001b[1;34m\u001b[0m\n\u001b[0;32m      1\u001b[0m \u001b[0mc\u001b[0m \u001b[1;33m=\u001b[0m \u001b[1;33m(\u001b[0m\u001b[1;36m2\u001b[0m\u001b[1;33m,\u001b[0m\u001b[1;36m3\u001b[0m\u001b[1;33m)\u001b[0m\u001b[1;33m\u001b[0m\u001b[1;33m\u001b[0m\u001b[0m\n\u001b[1;32m----> 2\u001b[1;33m \u001b[0mc\u001b[0m\u001b[1;33m[\u001b[0m\u001b[1;36m1\u001b[0m\u001b[1;33m]\u001b[0m \u001b[1;33m=\u001b[0m \u001b[1;36m4\u001b[0m\u001b[1;33m\u001b[0m\u001b[1;33m\u001b[0m\u001b[0m\n\u001b[0m",
      "\u001b[1;31mTypeError\u001b[0m: 'tuple' object does not support item assignment"
     ]
    }
   ],
   "source": [
    "c = (2,3)\n",
    "c[1] = 4"
   ]
  },
  {
   "cell_type": "code",
   "execution_count": 22,
   "metadata": {},
   "outputs": [
    {
     "name": "stdout",
     "output_type": "stream",
     "text": [
      "你好 函数\n"
     ]
    }
   ],
   "source": [
    "def fff():\n",
    "    '''你好 函数'''\n",
    "    pass\n",
    "\n",
    "print(fff.__doc__)\n"
   ]
  },
  {
   "cell_type": "markdown",
   "metadata": {},
   "source": [
    "### 斐波拉契的几终写法"
   ]
  },
  {
   "cell_type": "code",
   "execution_count": 37,
   "metadata": {},
   "outputs": [
    {
     "name": "stdout",
     "output_type": "stream",
     "text": [
      "[1, 1, 2, 3, 5, 8, 13, 21, 34, 55]\n"
     ]
    }
   ],
   "source": [
    "# 循环\n",
    "def f1(size):\n",
    "    if size == 1 :\n",
    "        return [1]\n",
    "    elif size == 2:\n",
    "        return [1,1]\n",
    "    i,li = 2,[1,1]\n",
    "    while i < size:\n",
    "        li.append(li[-1] + li[-2])\n",
    "        i += 1\n",
    "    return li\n",
    "\n",
    "print(f1(10))"
   ]
  },
  {
   "cell_type": "code",
   "execution_count": 1,
   "metadata": {},
   "outputs": [],
   "source": [
    "#递归\n",
    "def f2(size):\n",
    "    if size == 1 :\n",
    "        return [1]\n",
    "    elif size == 2:\n",
    "        return [1,1]\n",
    "    \n",
    "\n",
    "# yield 写法\n",
    "def f3():\n",
    "    pass\n"
   ]
  },
  {
   "cell_type": "code",
   "execution_count": 3,
   "metadata": {},
   "outputs": [
    {
     "name": "stdout",
     "output_type": "stream",
     "text": [
      "True\n",
      "False\n",
      "True\n",
      "True\n",
      "False\n"
     ]
    }
   ],
   "source": [
    "from collections import deque\n",
    "def palindrome(word):\n",
    "    dq = deque(word)\n",
    "    while len(dq) > 1:\n",
    "        if dq.popleft() != dq.pop():\n",
    "            return False\n",
    "    return True\n",
    "\n",
    "print(palindrome('a'))\n",
    "print(palindrome('rocky'))\n",
    "print(palindrome(''))\n",
    "print(palindrome('radar'))\n",
    "print(palindrome('rabr'))"
   ]
  },
  {
   "cell_type": "code",
   "execution_count": 5,
   "metadata": {},
   "outputs": [
    {
     "name": "stdout",
     "output_type": "stream",
     "text": [
      "   September 2018\n",
      "Mo Tu We Th Fr Sa Su\n",
      "                1  2\n",
      " 3  4  5  6  7  8  9\n",
      "10 11 12 13 14 15 16\n",
      "17 18 19 20 21 22 23\n",
      "24 25 26 27 28 29 30\n",
      "\n"
     ]
    }
   ],
   "source": [
    "import calendar\n",
    "cal = calendar.month(2018, 9 )\n",
    "print(cal)"
   ]
  },
  {
   "cell_type": "code",
   "execution_count": 20,
   "metadata": {},
   "outputs": [
    {
     "name": "stdout",
     "output_type": "stream",
     "text": [
      "                              2018\n",
      "\n",
      "      January               February               March\n",
      "Mo Tu We Th Fr Sa Su  Mo Tu We Th Fr Sa Su  Mo Tu We Th Fr Sa Su\n",
      " 1  2  3  4  5  6  7            1  2  3  4            1  2  3  4\n",
      " 8  9 10 11 12 13 14   5  6  7  8  9 10 11   5  6  7  8  9 10 11\n",
      "15 16 17 18 19 20 21  12 13 14 15 16 17 18  12 13 14 15 16 17 18\n",
      "22 23 24 25 26 27 28  19 20 21 22 23 24 25  19 20 21 22 23 24 25\n",
      "29 30 31              26 27 28              26 27 28 29 30 31\n",
      "\n",
      "       April                  May                   June\n",
      "Mo Tu We Th Fr Sa Su  Mo Tu We Th Fr Sa Su  Mo Tu We Th Fr Sa Su\n",
      "                   1      1  2  3  4  5  6               1  2  3\n",
      " 2  3  4  5  6  7  8   7  8  9 10 11 12 13   4  5  6  7  8  9 10\n",
      " 9 10 11 12 13 14 15  14 15 16 17 18 19 20  11 12 13 14 15 16 17\n",
      "16 17 18 19 20 21 22  21 22 23 24 25 26 27  18 19 20 21 22 23 24\n",
      "23 24 25 26 27 28 29  28 29 30 31           25 26 27 28 29 30\n",
      "30\n",
      "\n",
      "        July                 August              September\n",
      "Mo Tu We Th Fr Sa Su  Mo Tu We Th Fr Sa Su  Mo Tu We Th Fr Sa Su\n",
      "                   1         1  2  3  4  5                  1  2\n",
      " 2  3  4  5  6  7  8   6  7  8  9 10 11 12   3  4  5  6  7  8  9\n",
      " 9 10 11 12 13 14 15  13 14 15 16 17 18 19  10 11 12 13 14 15 16\n",
      "16 17 18 19 20 21 22  20 21 22 23 24 25 26  17 18 19 20 21 22 23\n",
      "23 24 25 26 27 28 29  27 28 29 30 31        24 25 26 27 28 29 30\n",
      "30 31\n",
      "\n",
      "      October               November              December\n",
      "Mo Tu We Th Fr Sa Su  Mo Tu We Th Fr Sa Su  Mo Tu We Th Fr Sa Su\n",
      " 1  2  3  4  5  6  7            1  2  3  4                  1  2\n",
      " 8  9 10 11 12 13 14   5  6  7  8  9 10 11   3  4  5  6  7  8  9\n",
      "15 16 17 18 19 20 21  12 13 14 15 16 17 18  10 11 12 13 14 15 16\n",
      "22 23 24 25 26 27 28  19 20 21 22 23 24 25  17 18 19 20 21 22 23\n",
      "29 30 31              26 27 28 29 30        24 25 26 27 28 29 30\n",
      "                                            31\n",
      "\n"
     ]
    }
   ],
   "source": [
    "year = calendar.calendar(2018,w=1,l=1,c=2)\n",
    "print(year)"
   ]
  },
  {
   "cell_type": "code",
   "execution_count": 21,
   "metadata": {},
   "outputs": [
    {
     "data": {
      "text/plain": [
       "['dump',\n",
       " 'dumps',\n",
       " 'load',\n",
       " 'loads',\n",
       " 'JSONDecoder',\n",
       " 'JSONDecodeError',\n",
       " 'JSONEncoder']"
      ]
     },
     "execution_count": 21,
     "metadata": {},
     "output_type": "execute_result"
    }
   ],
   "source": [
    "import json\n",
    "json.__all__"
   ]
  },
  {
   "cell_type": "code",
   "execution_count": 30,
   "metadata": {},
   "outputs": [
    {
     "name": "stdout",
     "output_type": "stream",
     "text": [
      "[{'name': 'rocky', 'like': ('python', 'c++'), 'age': 23}]\n",
      "[{\"name\": \"rocky\", \"like\": [\"python\", \"c++\"], \"age\": 23}]\n",
      "[\n",
      "  {\n",
      "    \"age\": 23,\n",
      "    \"like\": [\n",
      "      \"python\",\n",
      "      \"c++\"\n",
      "    ],\n",
      "    \"name\": \"rocky\"\n",
      "  }\n",
      "]\n"
     ]
    }
   ],
   "source": [
    "data = [{'name':'rocky','like':('python','c++'),'age':23}]\n",
    "print(data)\n",
    "data_json = json.dumps(data)\n",
    "print(data_json)\n",
    "\n",
    "data2 = json.loads(data_json)\n",
    "data2\n",
    "data1 = json.dumps(data,sort_keys = True,indent = 2)\n",
    "print(data1)"
   ]
  },
  {
   "cell_type": "code",
   "execution_count": 37,
   "metadata": {},
   "outputs": [
    {
     "name": "stdout",
     "output_type": "stream",
     "text": [
      "C:\\Users\\winter60\\AppData\\Local\\Temp\\tmparrb_sj2\n",
      "两情若是久长时又岂在朝朝暮暮\n",
      "b'I love Python!'\n",
      "创建临时目录 <tempfile._TemporaryFileWrapper object at 0x0144E3B0>\n"
     ]
    }
   ],
   "source": [
    "import tempfile\n",
    "\n",
    "#创建临时文件\n",
    "fp = tempfile.TemporaryFile()\n",
    "#fp = tempfile.NamedTemporaryFile(mode = 'w+')\n",
    "print(fp.name)\n",
    "fp.write('两情若是久长时'.encode('utf-8'))\n",
    "fp.write('又岂在朝朝暮暮'.encode('utf-8'))\n",
    "\n",
    "fp.seek(0)\n",
    "print(fp.read().decode('utf-8'))\n",
    "fp.close\n",
    "\n",
    "# 通过with语句创建临时文件，with会自动关闭临时文件\n",
    "with tempfile.TemporaryFile() as fp:\n",
    "    fp.write(b'I love Python!')\n",
    "    fp.seek(0)\n",
    "    \n",
    "    print(fp.read())\n",
    "\n",
    "with tempfile.TemporaryFile() as tmpdirname:\n",
    "    print('创建临时目录', tmpdirname)\n"
   ]
  },
  {
   "cell_type": "code",
   "execution_count": 46,
   "metadata": {},
   "outputs": [
    {
     "name": "stdout",
     "output_type": "stream",
     "text": [
      "<class '__main__.people'>\n",
      "people(name='rk', sex='girl', age='18')\n",
      "rk\n",
      "OrderedDict([('name', 'rk'), ('sex', 'girl'), ('age', '18')])\n"
     ]
    }
   ],
   "source": [
    "from collections import namedtuple\n",
    "\n",
    "people = namedtuple('people', 'name sex age')\n",
    "print(people)\n",
    "rocky = people(name = 'rk', sex = 'girl', age = '18')\n",
    "print(rocky)\n",
    "print(rocky.name)\n",
    "print(rocky._asdict())\n",
    "\n"
   ]
  },
  {
   "cell_type": "markdown",
   "metadata": {},
   "source": [
    "## Counter\n"
   ]
  },
  {
   "cell_type": "code",
   "execution_count": 55,
   "metadata": {},
   "outputs": [
    {
     "name": "stdout",
     "output_type": "stream",
     "text": [
      "Counter()\n",
      "Counter({'a': 3, 'l': 2, 'g': 1, 'h': 1, 'd': 1})\n",
      "Counter({'a': 3, 'l': 2, 'g': 1, 'h': 1, 'd': 1})\n",
      "Counter({'red': 'S', 'blue': 2})\n",
      "S\n",
      "Counter({'dogs': 8, 'cats': 4})\n"
     ]
    }
   ],
   "source": [
    "from collections import Counter\n",
    "\n",
    "c = Counter()\n",
    "print(c)\n",
    "\n",
    "c = Counter('gallahad')\n",
    "print(c)\n",
    "\n",
    "c = Counter('gallahad')\n",
    "print(c)\n",
    "\n",
    "c = Counter({'red': 'S', 'blue': 2})\n",
    "print(c)\n",
    "print(c['red'])\n",
    "\n",
    "c = Counter(cats=4, dogs=8)\n",
    "print(c)\n",
    "\n"
   ]
  },
  {
   "cell_type": "code",
   "execution_count": 17,
   "metadata": {},
   "outputs": [
    {
     "name": "stdout",
     "output_type": "stream",
     "text": [
      "deque([4, 3, 2, 1, 6, 7, 8, 9, 10, 20, 21])\n"
     ]
    }
   ],
   "source": [
    "from collections import deque\n",
    "\n",
    "q = deque(range(5,11))\n",
    "\n",
    "\n",
    "q.append(11)\n",
    "q.popleft()\n",
    "q.pop()\n",
    "\n",
    "q.extendleft([1,2,3,4])\n",
    "q.extend([20,21])\n",
    "print(q)"
   ]
  },
  {
   "cell_type": "code",
   "execution_count": 13,
   "metadata": {},
   "outputs": [
    {
     "data": {
      "text/plain": [
       "[1, 2, 3, 4]"
      ]
     },
     "execution_count": 13,
     "metadata": {},
     "output_type": "execute_result"
    }
   ],
   "source": [
    "sorted([1,2,3,4])"
   ]
  },
  {
   "cell_type": "code",
   "execution_count": 22,
   "metadata": {},
   "outputs": [
    {
     "data": {
      "text/plain": [
       "'我爱你'"
      ]
     },
     "execution_count": 22,
     "metadata": {},
     "output_type": "execute_result"
    }
   ],
   "source": [
    "import pickle\n",
    "\n",
    "f = open('601.dat','wb')\n",
    "pickle.dump('我爱你', f)\n",
    "f.close()\n",
    "\n",
    "pickle.load(open('601.dat', 'rb'))"
   ]
  },
  {
   "cell_type": "code",
   "execution_count": 27,
   "metadata": {},
   "outputs": [
    {
     "name": "stdout",
     "output_type": "stream",
     "text": [
      "<class 'list'>\n",
      "['a', 'b', 'c']\n",
      "a : 你好\n",
      "b : ['a', 'b']\n"
     ]
    }
   ],
   "source": [
    "import shelve\n",
    "\n",
    "f = shelve.open('601.db')\n",
    "f['a'] = '你好'\n",
    "f['b'] = ['a', 'b'] \n",
    "k = f['b']\n",
    "print(type(k))\n",
    "k.append('c')\n",
    "print(k)\n",
    "f['b'].append('c')\n",
    "\n",
    "for k,v in f.items():\n",
    "    print(k , ':', v)\n",
    "    "
   ]
  },
  {
   "cell_type": "code",
   "execution_count": 16,
   "metadata": {},
   "outputs": [
    {
     "name": "stdout",
     "output_type": "stream",
     "text": [
      "<class 're.Pattern'>\n"
     ]
    }
   ],
   "source": [
    "# sentence\n",
    "import re\n",
    "import reprlib\n",
    "\n",
    "RE_WORD = re.compile('\\w+')\n",
    "print(type(RE_WORD))\n",
    "\n",
    "class Sentence:\n",
    "    def __init__(self,text):\n",
    "        self.text = text\n",
    "        self.words = RE_WORD.findall(text)\n",
    "    def __getitem__(self, index):\n",
    "        return self.words[index]\n",
    "    def __len__(self):\n",
    "        return len(self.words)\n",
    "    def __repr__(self):\n",
    "        return reprlib.repr(self.text)\n"
   ]
  },
  {
   "cell_type": "code",
   "execution_count": 17,
   "metadata": {},
   "outputs": [
    {
     "data": {
      "text/plain": [
       "7"
      ]
     },
     "execution_count": 17,
     "metadata": {},
     "output_type": "execute_result"
    }
   ],
   "source": [
    "s = Sentence('\"The time has come,\" the Walrus said,')\n",
    "s.words[3]\n",
    "len(s)"
   ]
  },
  {
   "cell_type": "code",
   "execution_count": 23,
   "metadata": {},
   "outputs": [
    {
     "name": "stdout",
     "output_type": "stream",
     "text": [
      "[('1', 'a', 'A'), ('2', 'b', 'B'), ('3', 'c', 'C')]\n"
     ]
    }
   ],
   "source": [
    "var1 = '12345'\n",
    "var2 = ['a','b','c']\n",
    "var3 = ('A','B','C','D')\n",
    "res = zip(var1, var2, var3)\n",
    "print(list(res))"
   ]
  },
  {
   "cell_type": "code",
   "execution_count": 27,
   "metadata": {},
   "outputs": [
    {
     "name": "stdout",
     "output_type": "stream",
     "text": [
      "[(1, 4), (2, 5), (3, 6)]\n",
      "<zip object at 0x011C2940>\n",
      "(1, 4) (2, 5) (3, 6)\n"
     ]
    }
   ],
   "source": [
    "x = [1, 2, 3]\n",
    "y = [4, 5, 6]\n",
    "zipped = zip(x, y)\n",
    "print(list(zipped))\n",
    "\n",
    "print(zip(x, y)) # 迭代器对象，\n",
    "print(*zip(x, y))# 组合好的多个元组数据"
   ]
  },
  {
   "cell_type": "code",
   "execution_count": 30,
   "metadata": {},
   "outputs": [
    {
     "name": "stdout",
     "output_type": "stream",
     "text": [
      "6\n"
     ]
    }
   ],
   "source": [
    "def func(n):\n",
    "    return n !=0 and n + func(n-1)\n",
    "print(func(3))"
   ]
  },
  {
   "cell_type": "code",
   "execution_count": 15,
   "metadata": {},
   "outputs": [
    {
     "name": "stdout",
     "output_type": "stream",
     "text": [
      "7\n",
      "4\n"
     ]
    }
   ],
   "source": [
    "def max_sum(nums):\n",
    "    dp = {}\n",
    "    dp[0], max_sum = nums[0], nums[0]\n",
    "    for i in range(1, len(nums)):\n",
    "        dp[i] = max(dp[i - 1] + nums[i], nums[i])\n",
    "        max_sum = max(max_sum, dp[i])\n",
    "    return max_sum\n",
    "print(max_sum([-2,1,-3,4,-1,2,1,-5,6]))\n",
    "print(max_sum([-2,1,-3,4,-1,-5,1,-5,4]))"
   ]
  },
  {
   "cell_type": "code",
   "execution_count": 16,
   "metadata": {},
   "outputs": [
    {
     "name": "stdout",
     "output_type": "stream",
     "text": [
      "7\n",
      "4\n"
     ]
    }
   ],
   "source": [
    "def max_sum(nums):\n",
    "    max_sum,all_sum = 0,0\n",
    "    for num in nums:\n",
    "        all_sum = max(all_sum + num, num)\n",
    "        max_sum = max(all_sum, max_sum)#遇到总和为负，就从当前开始累加\n",
    "    return max_sum\n",
    "print(max_sum([-2,1,-3,4,-1,2,1,-5,6]))\n",
    "print(max_sum([-2,1,-3,4,-1,-5,1,-5,4]))"
   ]
  },
  {
   "cell_type": "code",
   "execution_count": 18,
   "metadata": {},
   "outputs": [
    {
     "name": "stdout",
     "output_type": "stream",
     "text": [
      "1\n",
      "2\n",
      "4\n",
      "8\n",
      "16\n",
      "32\n",
      "64\n"
     ]
    }
   ],
   "source": [
    "i = 1\n",
    "while i< 100:\n",
    "    print(i)\n",
    "    i *= 2"
   ]
  },
  {
   "cell_type": "code",
   "execution_count": null,
   "metadata": {},
   "outputs": [],
   "source": []
  }
 ],
 "metadata": {
  "kernelspec": {
   "display_name": "Python 3",
   "language": "python",
   "name": "python3"
  },
  "language_info": {
   "codemirror_mode": {
    "name": "ipython",
    "version": 3
   },
   "file_extension": ".py",
   "mimetype": "text/x-python",
   "name": "python",
   "nbconvert_exporter": "python",
   "pygments_lexer": "ipython3",
   "version": "3.7.7"
  }
 },
 "nbformat": 4,
 "nbformat_minor": 4
}
