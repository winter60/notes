{
 "cells": [
  {
   "cell_type": "code",
   "execution_count": 14,
   "metadata": {},
   "outputs": [
    {
     "name": "stdout",
     "output_type": "stream",
     "text": [
      "\n",
      "0\n",
      "结束\n"
     ]
    }
   ],
   "source": [
    "import requests\n",
    "import bs4\n",
    "res = requests.get(\"https://movie.douban.com/top250\")\n",
    "print(res.text)\n",
    "soup = bs4.BeautifulSoup(res.text, \"html.parser\")\n",
    "targets = soup.find_all('div', class_ = 'hd')\n",
    "print(len(targets))\n",
    "for each in targets:\n",
    "    print(each.a.span.text)\n",
    "print('结束')    \n"
   ]
  },
  {
   "cell_type": "code",
   "execution_count": null,
   "metadata": {},
   "outputs": [],
   "source": []
  }
 ],
 "metadata": {
  "kernelspec": {
   "display_name": "Python 3",
   "language": "python",
   "name": "python3"
  },
  "language_info": {
   "codemirror_mode": {
    "name": "ipython",
    "version": 3
   },
   "file_extension": ".py",
   "mimetype": "text/x-python",
   "name": "python",
   "nbconvert_exporter": "python",
   "pygments_lexer": "ipython3",
   "version": "3.7.7"
  }
 },
 "nbformat": 4,
 "nbformat_minor": 4
}
