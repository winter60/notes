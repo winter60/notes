{
 "cells": [
  {
   "cell_type": "code",
   "execution_count": 59,
   "metadata": {},
   "outputs": [
    {
     "name": "stdout",
     "output_type": "stream",
     "text": [
      "h\n",
      "e\n",
      "l\n",
      "l\n",
      "o\n",
      "3\n",
      "4\n",
      "5\n",
      "8\n",
      "9\n",
      "10\n",
      "k\n",
      "key\n"
     ]
    },
    {
     "data": {
      "text/plain": [
       "<method-wrapper '__iter__' of list object at 0x00BA1DF0>"
      ]
     },
     "execution_count": 59,
     "metadata": {},
     "output_type": "execute_result"
    }
   ],
   "source": [
    "# 1.1 迭代对象\n",
    "s = 'hello'\n",
    "lst = [3,4,5]\n",
    "dic = {'k':'v','key':'value'}\n",
    "st = set([8,9,10])\n",
    "\n",
    "for c in s:\n",
    "    print(c)\n",
    "for e in lst:\n",
    "    print(e)\n",
    "for e in st:\n",
    "    print(e)\n",
    "for e in dic:\n",
    "    print(e)\n",
    "\n",
    "dir(s)\n",
    "lst.__iter__\n"
   ]
  },
  {
   "cell_type": "code",
   "execution_count": null,
   "metadata": {},
   "outputs": [],
   "source": []
  },
  {
   "cell_type": "code",
   "execution_count": 60,
   "metadata": {},
   "outputs": [
    {
     "name": "stdout",
     "output_type": "stream",
     "text": [
      "a\n",
      "b\n",
      "c\n",
      "b\n"
     ]
    }
   ],
   "source": [
    "# 1.2 使用 __get_item__ \n",
    "\n",
    "class Foo:\n",
    "#     def __iter__(self):\n",
    "#         pass\n",
    "    def __getitem__(self,index):\n",
    "        return ['a','b','c'][index]\n",
    "    \n",
    "    \n",
    "#     def __len__(self):\n",
    "#         return 3\n",
    "foo = Foo()\n",
    "\n",
    "# from collections import abc\n",
    "# print(issubclass(Foo, abc.Iterable))\n",
    "# print(isinstance(foo, abc.Iterable))\n",
    "\n",
    "# iter(foo)\n",
    "\n",
    "for e in foo:\n",
    "    print(e)\n",
    "\n",
    "print(foo[1])"
   ]
  },
  {
   "cell_type": "code",
   "execution_count": 29,
   "metadata": {},
   "outputs": [
    {
     "name": "stdout",
     "output_type": "stream",
     "text": [
      "hello\n",
      "world\n",
      "haha\n",
      "hey\n",
      "ya\n"
     ]
    }
   ],
   "source": [
    "# 1.3 使用 __iter__ \n",
    "\n",
    "import re\n",
    "import reprlib\n",
    "\n",
    "RE_WORD = re.compile('\\w+')\n",
    "# 可迭代的类\n",
    "class Sentence:\n",
    "    def __init__(self, text):\n",
    "        self.text = text\n",
    "        self.words = RE_WORD.findall(text)\n",
    "    \n",
    "    def __repr__(self):\n",
    "        return 'Sentence(%s)' % reprlib.repr(self.text)\n",
    "\n",
    "    def __iter__(self):\n",
    "        return SentenceIterator(self.words)\n",
    "\n",
    "# 生成器\n",
    "class SentenceIterator:\n",
    "    def __init__(self, words):\n",
    "        self.words = words\n",
    "        self.index = 0\n",
    "\n",
    "    def __next__(self):\n",
    "        try:\n",
    "            word = self.words[self.index]\n",
    "        except IndexError:\n",
    "            raise StopIteration()\n",
    "        self.index += 1\n",
    "        return word\n",
    "\n",
    "    def __iter__(self):\n",
    "        return self\n",
    "\n",
    "s1 = Sentence('hello world , haha hey ya')\n",
    "for w in s1:\n",
    "    print(w)"
   ]
  },
  {
   "cell_type": "code",
   "execution_count": 63,
   "metadata": {},
   "outputs": [
    {
     "name": "stdout",
     "output_type": "stream",
     "text": [
      "<str_iterator object at 0x00B97710>\n",
      "雷\n",
      "好\n",
      "啊\n"
     ]
    },
    {
     "ename": "StopIteration",
     "evalue": "",
     "output_type": "error",
     "traceback": [
      "\u001b[1;31m---------------------------------------------------------------------------\u001b[0m",
      "\u001b[1;31mStopIteration\u001b[0m                             Traceback (most recent call last)",
      "\u001b[1;32m<ipython-input-63-e0663a72f163>\u001b[0m in \u001b[0;36m<module>\u001b[1;34m\u001b[0m\n\u001b[0;32m      8\u001b[0m \u001b[1;33m\u001b[0m\u001b[0m\n\u001b[0;32m      9\u001b[0m \u001b[1;31m# StopIteration\u001b[0m\u001b[1;33m\u001b[0m\u001b[1;33m\u001b[0m\u001b[1;33m\u001b[0m\u001b[0m\n\u001b[1;32m---> 10\u001b[1;33m \u001b[0mprint\u001b[0m\u001b[1;33m(\u001b[0m\u001b[0mnext\u001b[0m\u001b[1;33m(\u001b[0m\u001b[0msiter\u001b[0m\u001b[1;33m)\u001b[0m\u001b[1;33m)\u001b[0m\u001b[1;33m\u001b[0m\u001b[1;33m\u001b[0m\u001b[0m\n\u001b[0m\u001b[0;32m     11\u001b[0m \u001b[1;33m\u001b[0m\u001b[0m\n\u001b[0;32m     12\u001b[0m \u001b[1;31m# 3\u001b[0m\u001b[1;33m\u001b[0m\u001b[1;33m\u001b[0m\u001b[1;33m\u001b[0m\u001b[0m\n",
      "\u001b[1;31mStopIteration\u001b[0m: "
     ]
    }
   ],
   "source": [
    "# 1.4 使用 iter函数 返回迭代器\n",
    "siter = iter('雷好啊')\n",
    "print(siter)\n",
    "\n",
    "print(next(siter))\n",
    "print(next(siter))\n",
    "print(next(siter))\n",
    "\n",
    "# StopIteration\n",
    "print(next(siter))\n",
    "\n",
    "# 3\n"
   ]
  },
  {
   "cell_type": "code",
   "execution_count": 3,
   "metadata": {},
   "outputs": [
    {
     "name": "stdout",
     "output_type": "stream",
     "text": [
      "2\n",
      "4\n",
      "6\n"
     ]
    }
   ],
   "source": [
    "its = (i for i in range(2,100,2))\n",
    "print(next(its))\n",
    "print(next(its))\n",
    "print(next(its))"
   ]
  },
  {
   "cell_type": "code",
   "execution_count": 85,
   "metadata": {},
   "outputs": [
    {
     "name": "stdout",
     "output_type": "stream",
     "text": [
      "1\n",
      "1\n",
      "2\n",
      "3\n"
     ]
    }
   ],
   "source": [
    "# 3.1 斐波拉奇\n",
    "# 1，1，2,3,5,8\n",
    "def fib():\n",
    "    pre,cur = 1,1\n",
    "    while True:\n",
    "        yield pre\n",
    "        pre, cur =cur,pre + cur\n",
    "    \n",
    "f = fib()\n",
    "print(next(f))\n",
    "print(next(f))\n",
    "print(next(f))\n",
    "print(next(f))"
   ]
  },
  {
   "cell_type": "code",
   "execution_count": 74,
   "metadata": {},
   "outputs": [
    {
     "name": "stdout",
     "output_type": "stream",
     "text": [
      "['hello', 'world', 'haha']\n",
      "<callable_iterator object at 0x00B97930>\n",
      "hello\n"
     ]
    }
   ],
   "source": [
    "# 3.2\n",
    "import re\n",
    "text = 'hello world haha'\n",
    "RE_WORD = re.compile('\\w+')\n",
    "tall = RE_WORD.findall(text)\n",
    "print(tall)\n",
    "\n",
    "gen_tall = RE_WORD.finditer(text)\n",
    "print(gen_tall)\n",
    "\n",
    "print(next(gen_tall).group())\n",
    "# doc()"
   ]
  },
  {
   "cell_type": "code",
   "execution_count": 76,
   "metadata": {},
   "outputs": [
    {
     "name": "stdout",
     "output_type": "stream",
     "text": [
      "<generator object gen_a at 0x00BB8430>\n",
      "[3, 5, 6, 8]\n"
     ]
    }
   ],
   "source": [
    "#  3.3 yield from \n",
    "\n",
    "alst = [3,5,6,8]\n",
    "# def gen_a(lst):\n",
    "#     for c in alst:\n",
    "#         yield c\n",
    "    \n",
    "def gen_a(lst):\n",
    "    yield from lst\n",
    "ga = gen_a(alst)\n",
    "print(ga)\n",
    "print(list(ga))\n",
    "\n",
    "\n"
   ]
  },
  {
   "cell_type": "code",
   "execution_count": 83,
   "metadata": {},
   "outputs": [
    {
     "name": "stdout",
     "output_type": "stream",
     "text": [
      "[1, 3]\n",
      "[1, 3]\n"
     ]
    }
   ],
   "source": [
    "# 4.1 itertool库\n",
    "from itertools import tee\n",
    "c = tee([1,3],2)\n",
    "print(list(c[0]))\n",
    "print(list(c[1]))"
   ]
  },
  {
   "cell_type": "code",
   "execution_count": null,
   "metadata": {},
   "outputs": [],
   "source": []
  }
 ],
 "metadata": {
  "kernelspec": {
   "display_name": "Python 3",
   "language": "python",
   "name": "python3"
  },
  "language_info": {
   "codemirror_mode": {
    "name": "ipython",
    "version": 3
   },
   "file_extension": ".py",
   "mimetype": "text/x-python",
   "name": "python",
   "nbconvert_exporter": "python",
   "pygments_lexer": "ipython3",
   "version": "3.7.7"
  }
 },
 "nbformat": 4,
 "nbformat_minor": 4
}
